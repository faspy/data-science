{
  "nbformat": 4,
  "nbformat_minor": 0,
  "metadata": {
    "colab": {
      "name": "my_uber_rides.ipynb",
      "provenance": [],
      "authorship_tag": "ABX9TyOm/dPeVc2QFkae8hK/4iR4",
      "include_colab_link": true
    },
    "kernelspec": {
      "name": "python3",
      "display_name": "Python 3"
    }
  },
  "cells": [
    {
      "cell_type": "markdown",
      "metadata": {
        "id": "view-in-github",
        "colab_type": "text"
      },
      "source": [
        "<a href=\"https://colab.research.google.com/github/faspy/data_science_projects/blob/gh-pages/eda_my_uber_rides.ipynb\" target=\"_parent\"><img src=\"https://colab.research.google.com/assets/colab-badge.svg\" alt=\"Open In Colab\"/></a>"
      ]
    },
    {
      "cell_type": "code",
      "metadata": {
        "id": "WLCYr2NJc7XI"
      },
      "source": [
        "import pandas as pd\r\n",
        "import numpy as np\r\n",
        "import matplotlib.pyplot as plt\r\n",
        "import seaborn as sns\r\n",
        "\r\n",
        "%matplotlib inline"
      ],
      "execution_count": null,
      "outputs": []
    },
    {
      "cell_type": "code",
      "metadata": {
        "id": "wWIM8MhCdDmA"
      },
      "source": [
        "rides = pd.read_csv('https://raw.githubusercontent.com/faspy/raw_data/main/trips_data.csv')"
      ],
      "execution_count": null,
      "outputs": []
    },
    {
      "cell_type": "code",
      "metadata": {
        "colab": {
          "base_uri": "https://localhost:8080/",
          "height": 204
        },
        "id": "h9GA5z8FdJA3",
        "outputId": "07c08013-92e8-4eae-aae2-44a8792ded79"
      },
      "source": [
        "rides.head()"
      ],
      "execution_count": null,
      "outputs": [
        {
          "output_type": "execute_result",
          "data": {
            "text/html": [
              "<div>\n",
              "<style scoped>\n",
              "    .dataframe tbody tr th:only-of-type {\n",
              "        vertical-align: middle;\n",
              "    }\n",
              "\n",
              "    .dataframe tbody tr th {\n",
              "        vertical-align: top;\n",
              "    }\n",
              "\n",
              "    .dataframe thead th {\n",
              "        text-align: right;\n",
              "    }\n",
              "</style>\n",
              "<table border=\"1\" class=\"dataframe\">\n",
              "  <thead>\n",
              "    <tr style=\"text-align: right;\">\n",
              "      <th></th>\n",
              "      <th>City</th>\n",
              "      <th>Product Type</th>\n",
              "      <th>Trip or Order Status</th>\n",
              "      <th>Request Time</th>\n",
              "      <th>Begin Trip Time</th>\n",
              "      <th>Begin Trip Lat</th>\n",
              "      <th>Begin Trip Lng</th>\n",
              "      <th>Dropoff Time</th>\n",
              "      <th>Dropoff Lat</th>\n",
              "      <th>Dropoff Lng</th>\n",
              "      <th>Distance (miles)</th>\n",
              "      <th>Fare Amount</th>\n",
              "      <th>Fare Currency</th>\n",
              "    </tr>\n",
              "  </thead>\n",
              "  <tbody>\n",
              "    <tr>\n",
              "      <th>0</th>\n",
              "      <td>458</td>\n",
              "      <td>Black</td>\n",
              "      <td>COMPLETED</td>\n",
              "      <td>2021-01-13 22:06:46 +0000 UTC</td>\n",
              "      <td>2021-01-13 22:11:10 +0000 UTC</td>\n",
              "      <td>-23.599752</td>\n",
              "      <td>-46.715954</td>\n",
              "      <td>2021-01-13 22:29:13 +0000 UTC</td>\n",
              "      <td>-23.559359</td>\n",
              "      <td>-46.666542</td>\n",
              "      <td>4.84</td>\n",
              "      <td>29.63</td>\n",
              "      <td>BRL</td>\n",
              "    </tr>\n",
              "    <tr>\n",
              "      <th>1</th>\n",
              "      <td>458</td>\n",
              "      <td>VIP</td>\n",
              "      <td>COMPLETED</td>\n",
              "      <td>2021-01-13 20:21:05 +0000 UTC</td>\n",
              "      <td>2021-01-13 20:27:29 +0000 UTC</td>\n",
              "      <td>-23.559298</td>\n",
              "      <td>-46.666454</td>\n",
              "      <td>2021-01-13 20:54:50 +0000 UTC</td>\n",
              "      <td>-23.599585</td>\n",
              "      <td>-46.715717</td>\n",
              "      <td>5.31</td>\n",
              "      <td>20.86</td>\n",
              "      <td>BRL</td>\n",
              "    </tr>\n",
              "    <tr>\n",
              "      <th>2</th>\n",
              "      <td>458</td>\n",
              "      <td>VIP</td>\n",
              "      <td>COMPLETED</td>\n",
              "      <td>2021-01-03 00:23:22 +0000 UTC</td>\n",
              "      <td>2021-01-03 00:33:00 +0000 UTC</td>\n",
              "      <td>-23.626593</td>\n",
              "      <td>-46.659410</td>\n",
              "      <td>2021-01-03 00:50:56 +0000 UTC</td>\n",
              "      <td>-23.559273</td>\n",
              "      <td>-46.666595</td>\n",
              "      <td>5.90</td>\n",
              "      <td>34.23</td>\n",
              "      <td>BRL</td>\n",
              "    </tr>\n",
              "    <tr>\n",
              "      <th>3</th>\n",
              "      <td>458</td>\n",
              "      <td>VIP</td>\n",
              "      <td>COMPLETED</td>\n",
              "      <td>2020-12-11 23:16:33 +0000 UTC</td>\n",
              "      <td>2020-12-11 23:27:32 +0000 UTC</td>\n",
              "      <td>-23.559410</td>\n",
              "      <td>-46.666435</td>\n",
              "      <td>2020-12-12 00:32:47 +0000 UTC</td>\n",
              "      <td>-23.425755</td>\n",
              "      <td>-46.481190</td>\n",
              "      <td>19.74</td>\n",
              "      <td>58.77</td>\n",
              "      <td>BRL</td>\n",
              "    </tr>\n",
              "    <tr>\n",
              "      <th>4</th>\n",
              "      <td>458</td>\n",
              "      <td>VIP</td>\n",
              "      <td>COMPLETED</td>\n",
              "      <td>2020-12-11 00:35:46 +0000 UTC</td>\n",
              "      <td>2020-12-11 00:46:46 +0000 UTC</td>\n",
              "      <td>-23.584846</td>\n",
              "      <td>-46.663590</td>\n",
              "      <td>2020-12-11 00:57:57 +0000 UTC</td>\n",
              "      <td>-23.559261</td>\n",
              "      <td>-46.666510</td>\n",
              "      <td>2.54</td>\n",
              "      <td>12.63</td>\n",
              "      <td>BRL</td>\n",
              "    </tr>\n",
              "  </tbody>\n",
              "</table>\n",
              "</div>"
            ],
            "text/plain": [
              "   City Product Type  ... Fare Amount Fare Currency\n",
              "0   458        Black  ...       29.63           BRL\n",
              "1   458          VIP  ...       20.86           BRL\n",
              "2   458          VIP  ...       34.23           BRL\n",
              "3   458          VIP  ...       58.77           BRL\n",
              "4   458          VIP  ...       12.63           BRL\n",
              "\n",
              "[5 rows x 13 columns]"
            ]
          },
          "metadata": {
            "tags": []
          },
          "execution_count": 7
        }
      ]
    },
    {
      "cell_type": "code",
      "metadata": {
        "colab": {
          "base_uri": "https://localhost:8080/"
        },
        "id": "Aa6c4tprdK9w",
        "outputId": "dee2fd6f-5bbd-4d64-e423-703721f2c1e4"
      },
      "source": [
        "rides.groupby('Product Type')['Fare Amount'].sum().sort_values(ascending=False)"
      ],
      "execution_count": null,
      "outputs": [
        {
          "output_type": "execute_result",
          "data": {
            "text/plain": [
              "Product Type\n",
              "UberX                   2694.46\n",
              "uberX                   2434.46\n",
              "uberX VIP               1115.64\n",
              "VIP                     1075.85\n",
              "POOL                     513.25\n",
              "UberEATS Marketplace     438.06\n",
              "POOL: MATCHED            214.88\n",
              "uberPOOL: MATCHED        138.11\n",
              "Pool: MATCHED            119.02\n",
              "Pool                     118.02\n",
              "Black                     92.74\n",
              "UberBLACK                 36.94\n",
              "uberx                     27.89\n",
              "uberPOOL                   0.00\n",
              "Juntos                     0.00\n",
              "Name: Fare Amount, dtype: float64"
            ]
          },
          "metadata": {
            "tags": []
          },
          "execution_count": 14
        }
      ]
    },
    {
      "cell_type": "code",
      "metadata": {
        "id": "te8azg1BdTR2"
      },
      "source": [
        ""
      ],
      "execution_count": null,
      "outputs": []
    }
  ]
}