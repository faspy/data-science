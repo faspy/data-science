{
  "nbformat": 4,
  "nbformat_minor": 0,
  "metadata": {
    "colab": {
      "name": "my_uber_rides.ipynb",
      "provenance": [],
      "collapsed_sections": [
        "gcUZ0H_GaRO9",
        "tPzS6QKNc42V",
        "lIEvZnnmdV3z",
        "ausPKy-bdaJ6",
        "nD_nhL5xdgPf",
        "o3Wv_tZNdjvl",
        "x6CAq0oAdpha"
      ],
      "include_colab_link": true
    },
    "kernelspec": {
      "name": "python3",
      "display_name": "Python 3"
    }
  },
  "cells": [
    {
      "cell_type": "markdown",
      "metadata": {
        "id": "view-in-github",
        "colab_type": "text"
      },
      "source": [
        "<a href=\"https://colab.research.google.com/github/faspy/data_science_projects/blob/gh-pages/my_uber_rides_eda.ipynb\" target=\"_parent\"><img src=\"https://colab.research.google.com/assets/colab-badge.svg\" alt=\"Open In Colab\"/></a>"
      ]
    },
    {
      "cell_type": "markdown",
      "metadata": {
        "id": "6Ddlo6K7cwYA"
      },
      "source": [
        "###**Exploratory Data Analysis (EDA):** *A pratical approach using YOUR Uber rides dataset*\r\n",
        "\r\n"
      ]
    },
    {
      "cell_type": "markdown",
      "metadata": {
        "id": "GL1oebyCu0FF"
      },
      "source": [
        "Exploring data is certainly one of the most important stages on Data Science process. Despite its simplicity, it could be a powerful tool to put you ahead on data and business context, as well as to determine crutial treatments before creating machine learning models.\r\n",
        "\r\n",
        "To turn things a little bit more interesting, I've decided to have some fun with my personal Uber rides data and see which insights I could extract.\r\n",
        "\r\n",
        "In this post, I will guide you through the following steps:\r\n",
        "1. Business Problem Definition\r\n",
        "2. Data Discovery\r\n",
        "3. Data Preparation\r\n",
        "4. Data Analysis & Storytelling\r\n",
        "\r\n",
        "***Note: Data Preparation is usually a stage that requires lots of work around data formatting, cleansing and manipulation, but making your data CONSISTENT is surely a success factor for your analysis and future modeling.***\r\n",
        "\r\n",
        "\r\n",
        "Let's check it out!"
      ]
    },
    {
      "cell_type": "markdown",
      "metadata": {
        "id": "_26wU6Oa7zgF"
      },
      "source": [
        "<img alt=\"Uber banner\" width=\"60%\" height=\"10%\" src=\"https://raw.githubusercontent.com/faspy/images/main/uber_banner.jpg\">"
      ]
    },
    {
      "cell_type": "markdown",
      "metadata": {
        "id": "hpbgYxDf0myx"
      },
      "source": [
        "###**Requesting and downloading your personal dataset**\r\n",
        "\r\n",
        "Uber's data download feature provides you in-depth information about your rides. You can request access to your data through the following link:\r\n",
        "https://myprivacy.uber.com/privacy/exploreyourdata/download\r\n",
        "\r\n",
        "After your request is done, an email with the download link will be sent to you (usually in the same day).\r\n",
        "\r\n",
        "*For security purposes, your data is only available **during 7 days**.*"
      ]
    },
    {
      "cell_type": "markdown",
      "metadata": {
        "id": "Dvi_44-nH4uV"
      },
      "source": [
        "###**1. Business Problem Definition:** First things, first!\r\n",
        "\r\n",
        "Before starting manipulating and analysing data, the first thing you should do is to think about **THE PURPOSE**. What mean is that you should think about the reasons why you are up to conduct any analysis. If you are uncertain about this, simply starting formulating questions regarding your subject like **What? When? Where? Who? Which? How? How many? How much?**.\r\n",
        "\r\n",
        "Depending on how many data and features you have, analysis could go to the infinite and beyond. So that's why (after thinking process) I decided to focus on the following questions:\r\n",
        "\r\n",
        "     a. How many trips I did over the years?\r\n",
        "     b. How many trips were Completed and Canceled?\r\n",
        "     c. How many trips were not recovered by Uber after cancelling? (Churn Out?)\r\n",
        "     d. Where most of the dropoffs ocurred?\r\n",
        "     e. What product type is usually chosen?\r\n",
        "     f. How much is the average fare and how much is payed by km ridden?\r\n",
        "     g. Which months and weekdays have the highest average fares?\r\n",
        "     h. Which was the longest/shortest and more expensive/cheaper ride?\r\n",
        "     i. What is the average lead time before begining a trip?\r\n",
        "     j. What is the average time spent on trips?"
      ]
    },
    {
      "cell_type": "markdown",
      "metadata": {
        "id": "lgZl1mhR7G6R"
      },
      "source": [
        "###**2. Data Discovery**"
      ]
    },
    {
      "cell_type": "markdown",
      "metadata": {
        "id": "hUxSDR2pkGC-"
      },
      "source": [
        "Importing libraries and dataset."
      ]
    },
    {
      "cell_type": "code",
      "metadata": {
        "id": "K_nLo24KkB9R"
      },
      "source": [
        "# Libraries for handling numeric computation and dataframes\r\n",
        "import pandas as pd\r\n",
        "import numpy as np\r\n",
        "\r\n",
        "# Libraries for statistical plotting\r\n",
        "import matplotlib.pyplot as plt\r\n",
        "import seaborn as sns\r\n",
        "%matplotlib inline\r\n",
        "\r\n",
        "# My personal data storaged in my Github repository\r\n",
        "rides = pd.read_csv('https://raw.githubusercontent.com/faspy/raw_data/main/trips_data.csv')"
      ],
      "execution_count": 1,
      "outputs": []
    },
    {
      "cell_type": "markdown",
      "metadata": {
        "id": "1dn-a9dpDiEc"
      },
      "source": [
        "Checking basic dataset information (data types and dimensions)"
      ]
    },
    {
      "cell_type": "code",
      "metadata": {
        "colab": {
          "base_uri": "https://localhost:8080/"
        },
        "id": "M4tOk4R82OXH",
        "outputId": "13163f14-1a58-4251-d4b5-484187a6ff9f"
      },
      "source": [
        "rides.info()"
      ],
      "execution_count": 2,
      "outputs": [
        {
          "output_type": "stream",
          "text": [
            "<class 'pandas.core.frame.DataFrame'>\n",
            "RangeIndex: 554 entries, 0 to 553\n",
            "Data columns (total 13 columns):\n",
            " #   Column                Non-Null Count  Dtype  \n",
            "---  ------                --------------  -----  \n",
            " 0   City                  554 non-null    int64  \n",
            " 1   Product Type          551 non-null    object \n",
            " 2   Trip or Order Status  554 non-null    object \n",
            " 3   Request Time          554 non-null    object \n",
            " 4   Begin Trip Time       554 non-null    object \n",
            " 5   Begin Trip Lat        525 non-null    float64\n",
            " 6   Begin Trip Lng        525 non-null    float64\n",
            " 7   Dropoff Time          554 non-null    object \n",
            " 8   Dropoff Lat           525 non-null    float64\n",
            " 9   Dropoff Lng           525 non-null    float64\n",
            " 10  Distance (miles)      554 non-null    float64\n",
            " 11  Fare Amount           554 non-null    float64\n",
            " 12  Fare Currency         551 non-null    object \n",
            "dtypes: float64(6), int64(1), object(6)\n",
            "memory usage: 56.4+ KB\n"
          ],
          "name": "stdout"
        }
      ]
    },
    {
      "cell_type": "markdown",
      "metadata": {
        "id": "sduoNJwQ9u1R"
      },
      "source": [
        "***.rename( )*** method allows you to rename axis labels (indexes and columns). In this case I decided to normalize column names to clean up coding, as long you can columns by typing **```<data_frame>.<column>```**."
      ]
    },
    {
      "cell_type": "code",
      "metadata": {
        "id": "rSe6HEjG3hIF"
      },
      "source": [
        "rides.rename(columns={'Trip or Order Status': 'status', 'Request Time': 'request_time','Product Type':'product_type','Begin Trip Time':'begin_time',\r\n",
        "                      'Begin Trip Lat':'begin_lat','Begin Trip Lng':'begin_lng','Dropoff Time':'dropoff_time','Dropoff Lat':'dropoff_lat',\r\n",
        "                      'Dropoff Lng':'dropoff_lng','Distance (miles)':'distance_miles','Fare Amount':'fare_amount',\r\n",
        "                      'Fare Currency':'fare_currency','City':'city'}, inplace=True)"
      ],
      "execution_count": 3,
      "outputs": []
    },
    {
      "cell_type": "markdown",
      "metadata": {
        "id": "HABa5NgLCbrF"
      },
      "source": [
        "Use ***.head( )*** method to gain more sensibility around data formatting and understand the overall structure of the dataset values."
      ]
    },
    {
      "cell_type": "code",
      "metadata": {
        "colab": {
          "base_uri": "https://localhost:8080/",
          "height": 384
        },
        "id": "h9GA5z8FdJA3",
        "outputId": "49380f9a-45dc-4153-bd3f-0a6b1ce8a113"
      },
      "source": [
        "rides.head()"
      ],
      "execution_count": 4,
      "outputs": [
        {
          "output_type": "execute_result",
          "data": {
            "text/html": [
              "<div>\n",
              "<style scoped>\n",
              "    .dataframe tbody tr th:only-of-type {\n",
              "        vertical-align: middle;\n",
              "    }\n",
              "\n",
              "    .dataframe tbody tr th {\n",
              "        vertical-align: top;\n",
              "    }\n",
              "\n",
              "    .dataframe thead th {\n",
              "        text-align: right;\n",
              "    }\n",
              "</style>\n",
              "<table border=\"1\" class=\"dataframe\">\n",
              "  <thead>\n",
              "    <tr style=\"text-align: right;\">\n",
              "      <th></th>\n",
              "      <th>city</th>\n",
              "      <th>product_type</th>\n",
              "      <th>status</th>\n",
              "      <th>request_time</th>\n",
              "      <th>begin_time</th>\n",
              "      <th>begin_lat</th>\n",
              "      <th>begin_lng</th>\n",
              "      <th>dropoff_time</th>\n",
              "      <th>dropoff_lat</th>\n",
              "      <th>dropoff_lng</th>\n",
              "      <th>distance_miles</th>\n",
              "      <th>fare_amount</th>\n",
              "      <th>fare_currency</th>\n",
              "    </tr>\n",
              "  </thead>\n",
              "  <tbody>\n",
              "    <tr>\n",
              "      <th>0</th>\n",
              "      <td>458</td>\n",
              "      <td>Black</td>\n",
              "      <td>COMPLETED</td>\n",
              "      <td>2021-01-13 22:06:46 +0000 UTC</td>\n",
              "      <td>2021-01-13 22:11:10 +0000 UTC</td>\n",
              "      <td>-23.599752</td>\n",
              "      <td>-46.715954</td>\n",
              "      <td>2021-01-13 22:29:13 +0000 UTC</td>\n",
              "      <td>-23.559359</td>\n",
              "      <td>-46.666542</td>\n",
              "      <td>4.84</td>\n",
              "      <td>29.63</td>\n",
              "      <td>BRL</td>\n",
              "    </tr>\n",
              "    <tr>\n",
              "      <th>1</th>\n",
              "      <td>458</td>\n",
              "      <td>VIP</td>\n",
              "      <td>COMPLETED</td>\n",
              "      <td>2021-01-13 20:21:05 +0000 UTC</td>\n",
              "      <td>2021-01-13 20:27:29 +0000 UTC</td>\n",
              "      <td>-23.559298</td>\n",
              "      <td>-46.666454</td>\n",
              "      <td>2021-01-13 20:54:50 +0000 UTC</td>\n",
              "      <td>-23.599585</td>\n",
              "      <td>-46.715717</td>\n",
              "      <td>5.31</td>\n",
              "      <td>20.86</td>\n",
              "      <td>BRL</td>\n",
              "    </tr>\n",
              "    <tr>\n",
              "      <th>2</th>\n",
              "      <td>458</td>\n",
              "      <td>VIP</td>\n",
              "      <td>COMPLETED</td>\n",
              "      <td>2021-01-03 00:23:22 +0000 UTC</td>\n",
              "      <td>2021-01-03 00:33:00 +0000 UTC</td>\n",
              "      <td>-23.626593</td>\n",
              "      <td>-46.659410</td>\n",
              "      <td>2021-01-03 00:50:56 +0000 UTC</td>\n",
              "      <td>-23.559273</td>\n",
              "      <td>-46.666595</td>\n",
              "      <td>5.90</td>\n",
              "      <td>34.23</td>\n",
              "      <td>BRL</td>\n",
              "    </tr>\n",
              "    <tr>\n",
              "      <th>3</th>\n",
              "      <td>458</td>\n",
              "      <td>VIP</td>\n",
              "      <td>COMPLETED</td>\n",
              "      <td>2020-12-11 23:16:33 +0000 UTC</td>\n",
              "      <td>2020-12-11 23:27:32 +0000 UTC</td>\n",
              "      <td>-23.559410</td>\n",
              "      <td>-46.666435</td>\n",
              "      <td>2020-12-12 00:32:47 +0000 UTC</td>\n",
              "      <td>-23.425755</td>\n",
              "      <td>-46.481190</td>\n",
              "      <td>19.74</td>\n",
              "      <td>58.77</td>\n",
              "      <td>BRL</td>\n",
              "    </tr>\n",
              "    <tr>\n",
              "      <th>4</th>\n",
              "      <td>458</td>\n",
              "      <td>VIP</td>\n",
              "      <td>COMPLETED</td>\n",
              "      <td>2020-12-11 00:35:46 +0000 UTC</td>\n",
              "      <td>2020-12-11 00:46:46 +0000 UTC</td>\n",
              "      <td>-23.584846</td>\n",
              "      <td>-46.663590</td>\n",
              "      <td>2020-12-11 00:57:57 +0000 UTC</td>\n",
              "      <td>-23.559261</td>\n",
              "      <td>-46.666510</td>\n",
              "      <td>2.54</td>\n",
              "      <td>12.63</td>\n",
              "      <td>BRL</td>\n",
              "    </tr>\n",
              "  </tbody>\n",
              "</table>\n",
              "</div>"
            ],
            "text/plain": [
              "   city product_type     status  ... distance_miles fare_amount  fare_currency\n",
              "0   458        Black  COMPLETED  ...           4.84       29.63            BRL\n",
              "1   458          VIP  COMPLETED  ...           5.31       20.86            BRL\n",
              "2   458          VIP  COMPLETED  ...           5.90       34.23            BRL\n",
              "3   458          VIP  COMPLETED  ...          19.74       58.77            BRL\n",
              "4   458          VIP  COMPLETED  ...           2.54       12.63            BRL\n",
              "\n",
              "[5 rows x 13 columns]"
            ]
          },
          "metadata": {
            "tags": []
          },
          "execution_count": 4
        }
      ]
    },
    {
      "cell_type": "markdown",
      "metadata": {
        "id": "hbTPzZ2AY2DJ"
      },
      "source": [
        "###**3. Data Preparation**"
      ]
    },
    {
      "cell_type": "markdown",
      "metadata": {
        "id": "8_k9HlPzDazo"
      },
      "source": [
        "I decided to remove the column **fare_currency**, since all my trips happened inside a single country (Brazil)."
      ]
    },
    {
      "cell_type": "code",
      "metadata": {
        "id": "lvy85hm0_7cS"
      },
      "source": [
        "rides.pop('fare_currency');"
      ],
      "execution_count": 5,
      "outputs": []
    },
    {
      "cell_type": "markdown",
      "metadata": {
        "id": "rJa1ydO_Fp5d"
      },
      "source": [
        "Now let's check existance of ***missing values***."
      ]
    },
    {
      "cell_type": "code",
      "metadata": {
        "colab": {
          "base_uri": "https://localhost:8080/"
        },
        "id": "7ZGFSUfGrRTE",
        "outputId": "4b9c0f87-a1c3-4491-b603-e888d9e0bf8e"
      },
      "source": [
        "rides.isnull().sum().sort_values(ascending=False)"
      ],
      "execution_count": 6,
      "outputs": [
        {
          "output_type": "execute_result",
          "data": {
            "text/plain": [
              "dropoff_lng       29\n",
              "dropoff_lat       29\n",
              "begin_lng         29\n",
              "begin_lat         29\n",
              "product_type       3\n",
              "fare_amount        0\n",
              "distance_miles     0\n",
              "dropoff_time       0\n",
              "begin_time         0\n",
              "request_time       0\n",
              "status             0\n",
              "city               0\n",
              "dtype: int64"
            ]
          },
          "metadata": {
            "tags": []
          },
          "execution_count": 6
        }
      ]
    },
    {
      "cell_type": "markdown",
      "metadata": {
        "id": "VKElsSTRyYee"
      },
      "source": [
        "Despite empty Lng and Lat values (29 total), there were found 3 records without ```product_type```. As shown below, these records are insignificant to my dataset, since practically no columns are fulfilled."
      ]
    },
    {
      "cell_type": "code",
      "metadata": {
        "colab": {
          "base_uri": "https://localhost:8080/",
          "height": 237
        },
        "id": "ni6-PxGYy5XN",
        "outputId": "47a1ab81-c2ad-4141-f3c8-087fb7f2bade"
      },
      "source": [
        "rides[rides.product_type.isnull()]"
      ],
      "execution_count": 7,
      "outputs": [
        {
          "output_type": "execute_result",
          "data": {
            "text/html": [
              "<div>\n",
              "<style scoped>\n",
              "    .dataframe tbody tr th:only-of-type {\n",
              "        vertical-align: middle;\n",
              "    }\n",
              "\n",
              "    .dataframe tbody tr th {\n",
              "        vertical-align: top;\n",
              "    }\n",
              "\n",
              "    .dataframe thead th {\n",
              "        text-align: right;\n",
              "    }\n",
              "</style>\n",
              "<table border=\"1\" class=\"dataframe\">\n",
              "  <thead>\n",
              "    <tr style=\"text-align: right;\">\n",
              "      <th></th>\n",
              "      <th>city</th>\n",
              "      <th>product_type</th>\n",
              "      <th>status</th>\n",
              "      <th>request_time</th>\n",
              "      <th>begin_time</th>\n",
              "      <th>begin_lat</th>\n",
              "      <th>begin_lng</th>\n",
              "      <th>dropoff_time</th>\n",
              "      <th>dropoff_lat</th>\n",
              "      <th>dropoff_lng</th>\n",
              "      <th>distance_miles</th>\n",
              "      <th>fare_amount</th>\n",
              "    </tr>\n",
              "  </thead>\n",
              "  <tbody>\n",
              "    <tr>\n",
              "      <th>281</th>\n",
              "      <td>458</td>\n",
              "      <td>NaN</td>\n",
              "      <td>UNFULFILLED</td>\n",
              "      <td>2018-05-26 18:36:51 +0000 UTC</td>\n",
              "      <td>1970-01-01 00:00:00 +0000 UTC</td>\n",
              "      <td>NaN</td>\n",
              "      <td>NaN</td>\n",
              "      <td>1970-01-01 00:00:00 +0000 UTC</td>\n",
              "      <td>NaN</td>\n",
              "      <td>NaN</td>\n",
              "      <td>0.0</td>\n",
              "      <td>0.0</td>\n",
              "    </tr>\n",
              "    <tr>\n",
              "      <th>362</th>\n",
              "      <td>1449</td>\n",
              "      <td>NaN</td>\n",
              "      <td>UNFULFILLED</td>\n",
              "      <td>2018-02-13 01:59:25 +0000 UTC</td>\n",
              "      <td>1970-01-01 00:00:00 +0000 UTC</td>\n",
              "      <td>NaN</td>\n",
              "      <td>NaN</td>\n",
              "      <td>1970-01-01 00:00:00 +0000 UTC</td>\n",
              "      <td>NaN</td>\n",
              "      <td>NaN</td>\n",
              "      <td>0.0</td>\n",
              "      <td>0.0</td>\n",
              "    </tr>\n",
              "    <tr>\n",
              "      <th>392</th>\n",
              "      <td>1449</td>\n",
              "      <td>NaN</td>\n",
              "      <td>UNFULFILLED</td>\n",
              "      <td>2018-01-01 04:44:10 +0000 UTC</td>\n",
              "      <td>1970-01-01 00:00:00 +0000 UTC</td>\n",
              "      <td>NaN</td>\n",
              "      <td>NaN</td>\n",
              "      <td>1970-01-01 00:00:00 +0000 UTC</td>\n",
              "      <td>NaN</td>\n",
              "      <td>NaN</td>\n",
              "      <td>0.0</td>\n",
              "      <td>0.0</td>\n",
              "    </tr>\n",
              "  </tbody>\n",
              "</table>\n",
              "</div>"
            ],
            "text/plain": [
              "     city product_type       status  ... dropoff_lng distance_miles  fare_amount\n",
              "281   458          NaN  UNFULFILLED  ...         NaN            0.0          0.0\n",
              "362  1449          NaN  UNFULFILLED  ...         NaN            0.0          0.0\n",
              "392  1449          NaN  UNFULFILLED  ...         NaN            0.0          0.0\n",
              "\n",
              "[3 rows x 12 columns]"
            ]
          },
          "metadata": {
            "tags": []
          },
          "execution_count": 7
        }
      ]
    },
    {
      "cell_type": "markdown",
      "metadata": {
        "id": "zLJOJUExWdP5"
      },
      "source": [
        "So now, let's get rid of these 3 records before proceding."
      ]
    },
    {
      "cell_type": "code",
      "metadata": {
        "id": "6FjHhyQx00Gy"
      },
      "source": [
        "rides.dropna(subset = ['product_type'], inplace=True)"
      ],
      "execution_count": 8,
      "outputs": []
    },
    {
      "cell_type": "markdown",
      "metadata": {
        "id": "QSI5yRNZKbNM"
      },
      "source": [
        "###**3.1 Data Cleansing:** Categorical variables"
      ]
    },
    {
      "cell_type": "markdown",
      "metadata": {
        "id": "Rvb1PZ3YWt1N"
      },
      "source": [
        "While analysing the first categorical column **```<product_type>```**, I could clearly see that some work was necessary, since I could find different values referring to the same category. Then, I **summarized 15 original categories in 5 ones**."
      ]
    },
    {
      "cell_type": "code",
      "metadata": {
        "colab": {
          "base_uri": "https://localhost:8080/"
        },
        "id": "Aa6c4tprdK9w",
        "outputId": "7747bb3c-d445-4b1a-8d2c-98201ee011dd"
      },
      "source": [
        "# Checking categories in product_type column\r\n",
        "print(rides.product_type.value_counts())\r\n",
        "\r\n",
        "# Categories reclassification\r\n",
        "product_mapping = {'UberX':'UberX','uberX':'UberX','uberX VIP':'UberX','VIP':'UberX','POOL':'Pool','POOL: MATCHED':'Pool','UberBLACK': 'Black',\r\n",
        "                   'uberx':'UberX','uberPOOL':'Pool','uberPOOL: MATCHED':'Pool','Pool: MATCHED':'Pool'}\r\n",
        "\r\n",
        "# New categories replacement\r\n",
        "rides['product_type'].replace(product_mapping, inplace=True)\r\n",
        "\r\n",
        "# Checking new categories in product_type column\r\n",
        "print(rides.product_type.value_counts())"
      ],
      "execution_count": 9,
      "outputs": [
        {
          "output_type": "stream",
          "text": [
            "UberX                   169\n",
            "uberX                   144\n",
            "uberX VIP                81\n",
            "VIP                      71\n",
            "POOL                     36\n",
            "Pool                     12\n",
            "UberEATS Marketplace     10\n",
            "POOL: MATCHED             8\n",
            "uberPOOL                  5\n",
            "uberPOOL: MATCHED         5\n",
            "Pool: MATCHED             4\n",
            "Black                     3\n",
            "Juntos                    1\n",
            "uberx                     1\n",
            "UberBLACK                 1\n",
            "Name: product_type, dtype: int64\n",
            "UberX                   466\n",
            "Pool                     70\n",
            "UberEATS Marketplace     10\n",
            "Black                     4\n",
            "Juntos                    1\n",
            "Name: product_type, dtype: int64\n"
          ],
          "name": "stdout"
        }
      ]
    },
    {
      "cell_type": "markdown",
      "metadata": {
        "id": "7qXNalc3Jwzr"
      },
      "source": [
        "As the scope of this analysis is only around Uber rides, I removed ***UberEATS*** records from my dataset. "
      ]
    },
    {
      "cell_type": "code",
      "metadata": {
        "id": "R4NGTWtoVY0A"
      },
      "source": [
        "rides = rides[rides.product_type!='UberEATS Marketplace']"
      ],
      "execution_count": 10,
      "outputs": []
    },
    {
      "cell_type": "markdown",
      "metadata": {
        "id": "UybCyNJsOVNg"
      },
      "source": [
        "Our second categorical feature ```<status>``` seems well classified in 3 status, which will not require any kind of treatment."
      ]
    },
    {
      "cell_type": "code",
      "metadata": {
        "colab": {
          "base_uri": "https://localhost:8080/"
        },
        "id": "XVFSlJPtPAJD",
        "outputId": "02775507-a423-4b40-a564-a64166e4c554"
      },
      "source": [
        "rides.status.value_counts()"
      ],
      "execution_count": 11,
      "outputs": [
        {
          "output_type": "execute_result",
          "data": {
            "text/plain": [
              "COMPLETED          444\n",
              "CANCELED            87\n",
              "DRIVER_CANCELED     10\n",
              "Name: status, dtype: int64"
            ]
          },
          "metadata": {
            "tags": []
          },
          "execution_count": 11
        }
      ]
    },
    {
      "cell_type": "markdown",
      "metadata": {
        "id": "ls6vRfYJQmdh"
      },
      "source": [
        "###**3.2 Data Transformation:** Handling dates"
      ]
    },
    {
      "cell_type": "markdown",
      "metadata": {
        "id": "XSA4XK3vSXZf"
      },
      "source": [
        "**Dates** usually increase a lot your power of analysis, since you can break it down to different parts and generate insights from different perspectives. As previously shown, our dates features are in fact **object data types**, so we need to **convert them into datetime format**."
      ]
    },
    {
      "cell_type": "code",
      "metadata": {
        "id": "t5sDnyCsjRIY"
      },
      "source": [
        "# Library for manipulating dates and times\r\n",
        "from datetime import datetime\r\n",
        "from datetime import timedelta\r\n",
        "\r\n",
        "# Function to convert features to datetime\r\n",
        "def date_convertion(df, cols):\r\n",
        "\r\n",
        "  for col in cols:\r\n",
        "    df[col] = df[col].apply(lambda x: x.replace(' +0000 UTC', ''))\r\n",
        "    df[col] = pd.to_datetime(df[col])\r\n",
        "    \r\n",
        "  return df\r\n",
        "\r\n",
        "# Applying date_convertion function to date features \r\n",
        "rides = date_convertion(rides, ['request_time', 'begin_time', 'dropoff_time'])"
      ],
      "execution_count": 12,
      "outputs": []
    },
    {
      "cell_type": "markdown",
      "metadata": {
        "id": "fLb7dIudWHIb"
      },
      "source": [
        "Now, let's break down ```<request_time>``` feature into different date parts. I just did that for ```<request_time>```, since I'm assuming that all rides were completed in the same day ***(believe me, I have already checked that! :D )***."
      ]
    },
    {
      "cell_type": "code",
      "metadata": {
        "id": "05InR_YJPd2H"
      },
      "source": [
        "rides['year'] = rides.request_time.map(lambda x: datetime.strftime(x,\"%Y\"))\r\n",
        "rides['month'] = rides.request_time.map(lambda x: datetime.strftime(x,\"%b\"))\r\n",
        "rides['weekday'] = rides.request_time.map(lambda x: datetime.strftime(x,\"%a\"))\r\n",
        "rides['time'] = rides.request_time.map(lambda x: datetime.strftime(x,\"%H:%M\"))"
      ],
      "execution_count": 13,
      "outputs": []
    },
    {
      "cell_type": "markdown",
      "metadata": {
        "id": "YSSXBsEfc2WG"
      },
      "source": [
        "###**3.3 Feature Engineering:** Creating new features"
      ]
    },
    {
      "cell_type": "markdown",
      "metadata": {
        "id": "xxsDik38dOIw"
      },
      "source": [
        "Based on ```<fare_amount>``` and ```<distance_miles>``` features I've created a new feature called ```<amount_km>```, which would help us understand **how much is payed by kilometer ridden**."
      ]
    },
    {
      "cell_type": "code",
      "metadata": {
        "id": "nk_xnb9IR9Fz"
      },
      "source": [
        "rides['distance_km'] = round(rides.distance_miles*1.60934,2)\r\n",
        "rides['amount_km'] = round(rides.fare_amount/rides.distance_km,2)"
      ],
      "execution_count": 14,
      "outputs": []
    },
    {
      "cell_type": "markdown",
      "metadata": {
        "id": "VvCaj9rtfyyC"
      },
      "source": [
        "Delta time between ```<request_time>``` and ```<begin_time>``` will let us now **how much time (in minutes) I usually waited for Uber cars to arrive at my destination**. In this case, it was calculated in a minutes base."
      ]
    },
    {
      "cell_type": "code",
      "metadata": {
        "id": "-apIm6KdrWn_"
      },
      "source": [
        "rides['request_lead_time'] = rides.begin_time - rides.request_time\r\n",
        "rides['request_lead_time'] = rides['request_lead_time'].apply(lambda x: round(x.total_seconds()/60,1))"
      ],
      "execution_count": 15,
      "outputs": []
    },
    {
      "cell_type": "markdown",
      "metadata": {
        "id": "KV91zLsRect4"
      },
      "source": [
        "Similarly, delta time between ```<dropoff_time>``` and ```<begin_time>``` will let us now **how much time (in minutes) was spent on each trip**."
      ]
    },
    {
      "cell_type": "code",
      "metadata": {
        "id": "yfvRDPJ2edP4"
      },
      "source": [
        "rides['trip_duration'] = rides.dropoff_time - rides.begin_time\r\n",
        "rides['trip_duration'] = rides['trip_duration'].apply(lambda x: round(x.total_seconds()/60,1))"
      ],
      "execution_count": 16,
      "outputs": []
    },
    {
      "cell_type": "markdown",
      "metadata": {
        "id": "WAuYE7OvhcEY"
      },
      "source": [
        "As features in records with **Canceled** and **Driver_Cancelled status** will not be useful for my analysis, I set them as **null values** to clean up a little bit more my dataset."
      ]
    },
    {
      "cell_type": "code",
      "metadata": {
        "id": "7Fi0Qowq7g3M"
      },
      "source": [
        "rides.loc[(rides.status == 'CANCELED') | (rides.status == 'DRIVER_CANCELED'),'request_lead_time']=np.nan\r\n",
        "rides.loc[(rides.status == 'CANCELED') | (rides.status == 'DRIVER_CANCELED'),'amount_km']=np.nan\r\n",
        "rides.loc[(rides.status == 'CANCELED') | (rides.status == 'DRIVER_CANCELED'),['begin_time','dropoff_time']]= np.nan"
      ],
      "execution_count": 17,
      "outputs": []
    },
    {
      "cell_type": "markdown",
      "metadata": {
        "id": "II9jXMiyeDhV"
      },
      "source": [
        "###**4. Data Analysis & Storytelling:** It's show time!"
      ]
    },
    {
      "cell_type": "markdown",
      "metadata": {
        "id": "ZaskupBSiwmT"
      },
      "source": [
        "**RECOMMENDATION:** Do not start your analysis without completing the Business Problem Definition, since it determines your analysis' focus and quality. Besides that, this process will help you to think about new possibilities/questions while trying to answer the previous ones set. "
      ]
    },
    {
      "cell_type": "markdown",
      "metadata": {
        "id": "z1zdmTdEheiZ"
      },
      "source": [
        "**NOTE:** In order to organize better my analysis, I will create an additional dataframe, **removing all trips with status ```CANCELED``` and ```DRIVER_CANCELED```**, since they should be disconsider in some questions."
      ]
    },
    {
      "cell_type": "code",
      "metadata": {
        "id": "1-kM99_liVht"
      },
      "source": [
        "completed_rides = rides[(rides.status!='CANCELED')&(rides.status!='DRIVER_CANCELED')] "
      ],
      "execution_count": 18,
      "outputs": []
    },
    {
      "cell_type": "markdown",
      "metadata": {
        "id": "gcUZ0H_GaRO9"
      },
      "source": [
        "###**How many trips I did over the years?**\r\n",
        "\r\n",
        "A total of **444 trips** were completed from Apr'16 to Jan'21. If we disconsider 2016 and 2021 (not full years), we can clearly see that from **2017 to 2019 the average rides per year is 124**, and that there is a **huge drop from 2019 to 2020 (-51%)**. This is easily explained by the COVID outbreak.\r\n",
        "\r\n",
        "*Now, imagine if we extrapolate this result to all Uber users...*"
      ]
    },
    {
      "cell_type": "code",
      "metadata": {
        "colab": {
          "base_uri": "https://localhost:8080/",
          "height": 413
        },
        "id": "8JfR6zeaf1n0",
        "outputId": "0ed8fa58-db76-4df3-c110-7982a76ebb3b"
      },
      "source": [
        "print('Total trips: ', completed_rides.status.count())\r\n",
        "print(completed_rides.year.value_counts().sort_index(ascending=True))\r\n",
        "sns.countplot(data=completed_rides, x='year',order=['2016','2017','2018','2019','2020','2021'], palette='pastel');"
      ],
      "execution_count": 19,
      "outputs": [
        {
          "output_type": "stream",
          "text": [
            "Total trips:  444\n",
            "2016     17\n",
            "2017    120\n",
            "2018    146\n",
            "2019    106\n",
            "2020     52\n",
            "2021      3\n",
            "Name: year, dtype: int64\n"
          ],
          "name": "stdout"
        },
        {
          "output_type": "display_data",
          "data": {
            "image/png": "[encoded data removed]",
            "text/plain": [
              "<Figure size 432x288 with 1 Axes>"
            ]
          },
          "metadata": {
            "tags": [],
            "needs_background": "light"
          }
        }
      ]
    },
    {
      "cell_type": "markdown",
      "metadata": {
        "id": "tPzS6QKNc42V"
      },
      "source": [
        "###**How many trips were completed or canceled?**\r\n",
        "\r\n"
      ]
    },
    {
      "cell_type": "code",
      "metadata": {
        "colab": {
          "base_uri": "https://localhost:8080/",
          "height": 363
        },
        "id": "lWXrW6JFg4QY",
        "outputId": "8d61d107-6da9-4971-ca88-83fdd04c7fcf"
      },
      "source": [
        "print('Total trips: ', rides.status.count())\r\n",
        "print(round(rides.status.value_counts()/rides.status.size*100,1))\r\n",
        "sns.countplot(data=rides, x='year', order=['2015','2016','2017','2018','2019','2020','2021'], hue='status', palette='coolwarm');"
      ],
      "execution_count": 20,
      "outputs": [
        {
          "output_type": "stream",
          "text": [
            "Total trips:  541\n",
            "COMPLETED          82.1\n",
            "CANCELED           16.1\n",
            "DRIVER_CANCELED     1.8\n",
            "Name: status, dtype: float64\n"
          ],
          "name": "stdout"
        },
        {
          "output_type": "display_data",
          "data": {
            "image/png": "[encoded data removed]",
            "text/plain": [
              "<Figure size 432x288 with 1 Axes>"
            ]
          },
          "metadata": {
            "tags": [],
            "needs_background": "light"
          }
        }
      ]
    },
    {
      "cell_type": "markdown",
      "metadata": {
        "id": "lIEvZnnmdV3z"
      },
      "source": [
        "###**Where most of the dropoffs ocurred?**\r\n",
        "\r\n",
        "The following heatmap dynamically shows the most frequented areas throughout different hues and intensities. This could be a valuable information for Uber to adjust prices and optimize demand in certain regions, also combining time space data to track users behaviours."
      ]
    },
    {
      "cell_type": "code",
      "metadata": {
        "colab": {
          "base_uri": "https://localhost:8080/",
          "height": 782
        },
        "id": "I2F-PzI9Cfc6",
        "outputId": "528fc0a0-960c-45d9-afb2-aefcdbfd7ff7"
      },
      "source": [
        "import folium\r\n",
        "from folium import plugins\r\n",
        "\r\n",
        "coord=[]\r\n",
        "for lat,lng in zip(completed_rides.dropoff_lat.values,completed_rides.dropoff_lng.values):\r\n",
        "  coord.append([lat,lng])\r\n",
        "\r\n",
        "map = folium.Map(\r\n",
        "    location=[-23.5489,-46.6388],\r\n",
        "    tiles='Stamen Terrain',\r\n",
        "    zoom_start=7,\r\n",
        "    width='80%', \r\n",
        "    height='50%',\r\n",
        "    control_scale=True)\r\n",
        "\r\n",
        "map.add_child(plugins.HeatMap(coord))\r\n",
        "        \r\n",
        "map"
      ],
      "execution_count": 21,
      "outputs": [
        {
          "output_type": "execute_result",
          "data": {
            "text/html": [
              "<div style=\"width:100%;\"><div style=\"position:relative;width:100%;height:0;padding-bottom:60%;\"><span style=\"color:#565656\">Make this Notebook Trusted to load map: File -> Trust Notebook</span><iframe src=\"about:blank\" style=\"position:absolute;width:100%;height:100%;left:0;top:0;border:none !important;\" data-html=%3C%21DOCTYPE%20html%3E%0A%3Chead%3E%20%20%20%20%0A%20%20%20%20%3Cmeta%20http-equiv%3D%22content-type%22%20content%3D%22text/html%3B%20charset%3DUTF-8%22%20/%3E%0A%20%20%20%20%3Cscript%3EL_PREFER_CANVAS%3Dfalse%3B%20L_NO_TOUCH%3Dfalse%3B%20L_DISABLE_3D%3Dfalse%3B%3C/script%3E%0A%20%20%20%20%3Cscript%20src%3D%22https%3A//cdn.jsdelivr.net/npm/leaflet%401.4.0/dist/leaflet.js%22%3E%3C/script%3E%0A%20%20%20%20%3Cscript%20src%3D%22https%3A//code.jquery.com/jquery-1.12.4.min.js%22%3E%3C/script%3E%0A%20%20%20%20%3Cscript%20src%3D%22https%3A//maxcdn.bootstrapcdn.com/bootstrap/3.2.0/js/bootstrap.min.js%22%3E%3C/script%3E%0A%20%20%20%20%3Cscript%20src%3D%22https%3A//cdnjs.cloudflare.com/ajax/libs/Leaflet.awesome-markers/2.0.2/leaflet.awesome-markers.js%22%3E%3C/script%3E%0A%20%20%20%20%3Clink%20rel%3D%22stylesheet%22%20href%3D%22https%3A//cdn.jsdelivr.net/npm/leaflet%401.4.0/dist/leaflet.css%22/%3E%0A%20%20%20%20%3Clink%20rel%3D%22stylesheet%22%20href%3D%22https%3A//maxcdn.bootstrapcdn.com/bootstrap/3.2.0/css/bootstrap.min.css%22/%3E%0A%20%20%20%20%3Clink%20rel%3D%22stylesheet%22%20href%3D%22https%3A//maxcdn.bootstrapcdn.com/bootstrap/3.2.0/css/bootstrap-theme.min.css%22/%3E%0A%20%20%20%20%3Clink%20rel%3D%22stylesheet%22%20href%3D%22https%3A//maxcdn.bootstrapcdn.com/font-awesome/4.6.3/css/font-awesome.min.css%22/%3E%0A%20%20%20%20%3Clink%20rel%3D%22stylesheet%22%20href%3D%22https%3A//cdnjs.cloudflare.com/ajax/libs/Leaflet.awesome-markers/2.0.2/leaflet.awesome-markers.css%22/%3E%0A%20%20%20%20%3Clink%20rel%3D%22stylesheet%22%20href%3D%22https%3A//rawcdn.githack.com/python-visualization/folium/master/folium/templates/leaflet.awesome.rotate.css%22/%3E%0A%20%20%20%20%3Cstyle%3Ehtml%2C%20body%20%7Bwidth%3A%20100%25%3Bheight%3A%20100%25%3Bmargin%3A%200%3Bpadding%3A%200%3B%7D%3C/style%3E%0A%20%20%20%20%3Cstyle%3E%23map%20%7Bposition%3Aabsolute%3Btop%3A0%3Bbottom%3A0%3Bright%3A0%3Bleft%3A0%3B%7D%3C/style%3E%0A%20%20%20%20%0A%20%20%20%20%3Cmeta%20name%3D%22viewport%22%20content%3D%22width%3Ddevice-width%2C%0A%20%20%20%20%20%20%20%20initial-scale%3D1.0%2C%20maximum-scale%3D1.0%2C%20user-scalable%3Dno%22%20/%3E%0A%20%20%20%20%3Cstyle%3E%23map_c06f9d040f854e7f8de1d453d6924392%20%7B%0A%20%20%20%20%20%20%20%20position%3A%20relative%3B%0A%20%20%20%20%20%20%20%20width%3A%2080.0%25%3B%0A%20%20%20%20%20%20%20%20height%3A%2050.0%25%3B%0A%20%20%20%20%20%20%20%20left%3A%200.0%25%3B%0A%20%20%20%20%20%20%20%20top%3A%200.0%25%3B%0A%20%20%20%20%20%20%20%20%7D%0A%20%20%20%20%3C/style%3E%0A%20%20%20%20%3Cscript%20src%3D%22https%3A//leaflet.github.io/Leaflet.heat/dist/leaflet-heat.js%22%3E%3C/script%3E%0A%3C/head%3E%0A%3Cbody%3E%20%20%20%20%0A%20%20%20%20%0A%20%20%20%20%3Cdiv%20class%3D%22folium-map%22%20id%3D%22map_c06f9d040f854e7f8de1d453d6924392%22%20%3E%3C/div%3E%0A%3C/body%3E%0A%3Cscript%3E%20%20%20%20%0A%20%20%20%20%0A%20%20%20%20%0A%20%20%20%20%20%20%20%20var%20bounds%20%3D%20null%3B%0A%20%20%20%20%0A%0A%20%20%20%20var%20map_c06f9d040f854e7f8de1d453d6924392%20%3D%20L.map%28%0A%20%20%20%20%20%20%20%20%27map_c06f9d040f854e7f8de1d453d6924392%27%2C%20%7B%0A%20%20%20%20%20%20%20%20center%3A%20%5B-23.5489%2C%20-46.6388%5D%2C%0A%20%20%20%20%20%20%20%20zoom%3A%207%2C%0A%20%20%20%20%20%20%20%20maxBounds%3A%20bounds%2C%0A%20%20%20%20%20%20%20%20layers%3A%20%5B%5D%2C%0A%20%20%20%20%20%20%20%20worldCopyJump%3A%20false%2C%0A%20%20%20%20%20%20%20%20crs%3A%20L.CRS.EPSG3857%2C%0A%20%20%20%20%20%20%20%20zoomControl%3A%20true%2C%0A%20%20%20%20%20%20%20%20%7D%29%3B%0AL.control.scale%28%29.addTo%28map_c06f9d040f854e7f8de1d453d6924392%29%3B%0A%0A%20%20%20%20%0A%20%20%20%20var%20tile_layer_bee2f2d334854b19ac584752beacf429%20%3D%20L.tileLayer%28%0A%20%20%20%20%20%20%20%20%27https%3A//stamen-tiles-%7Bs%7D.a.ssl.fastly.net/terrain/%7Bz%7D/%7Bx%7D/%7By%7D.jpg%27%2C%0A%20%20%20%20%20%20%20%20%7B%0A%20%20%20%20%20%20%20%20%22attribution%22%3A%20null%2C%0A%20%20%20%20%20%20%20%20%22detectRetina%22%3A%20false%2C%0A%20%20%20%20%20%20%20%20%22maxNativeZoom%22%3A%2018%2C%0A%20%20%20%20%20%20%20%20%22maxZoom%22%3A%2018%2C%0A%20%20%20%20%20%20%20%20%22minZoom%22%3A%200%2C%0A%20%20%20%20%20%20%20%20%22noWrap%22%3A%20false%2C%0A%20%20%20%20%20%20%20%20%22opacity%22%3A%201%2C%0A%20%20%20%20%20%20%20%20%22subdomains%22%3A%20%22abc%22%2C%0A%20%20%20%20%20%20%20%20%22tms%22%3A%20false%0A%7D%29.addTo%28map_c06f9d040f854e7f8de1d453d6924392%29%3B%0A%20%20%20%20%0A%20%20%20%20%20%20%20%20%20%20%20%20var%20heat_map_4a2a5a8babb4410fbe20b8b954f8617b%20%3D%20L.heatLayer%28%0A%20%20%20%20%20%20%20%20%20%20%20%20%20%20%20%20%5B%5B-23.559359%2C%20-46.666542%5D%2C%20%5B-23.599585%2C%20-46.715717%5D%2C%20%5B-23.559273%2C%20-46.666595%5D%2C%20%5B-23.425755%2C%20-46.481190000000005%5D%2C%20%5B-23.559261%2C%20-46.666509999999995%5D%2C%20%5B-23.6245%2C%20-46.701077000000005%5D%2C%20%5B-23.559233%2C%20-46.666546000000004%5D%2C%20%5B-23.559366%2C%20-46.666637%5D%2C%20%5B-23.54775%2C%20-46.644104%5D%2C%20%5B-23.559292000000003%2C%20-46.66655%5D%2C%20%5B-23.567545000000003%2C%20-46.66403%5D%2C%20%5B-23.559343%2C%20-46.666496%5D%2C%20%5B-23.566214000000002%2C%20-46.675385%5D%2C%20%5B-23.56196%2C%20-46.658190000000005%5D%2C%20%5B-23.624607%2C%20-46.701088%5D%2C%20%5B-23.55949%2C%20-46.66645%5D%2C%20%5B-23.624554%2C%20-46.701042%5D%2C%20%5B-23.5593595%2C%20-46.6665002%5D%2C%20%5B-23.624549899999998%2C%20-46.7011459%5D%2C%20%5B-23.6245747%2C%20-46.701121%5D%2C%20%5B-23.5594793%2C%20-46.6664565%5D%2C%20%5B-23.6247021%2C%20-46.7009501%5D%2C%20%5B-23.624489699999998%2C%20-46.7009874%5D%2C%20%5B-23.6249448%2C%20-46.701319399999996%5D%2C%20%5B-23.5593722%2C%20-46.6664251%5D%2C%20%5B-23.624910600000003%2C%20-46.7006571%5D%2C%20%5B-23.559562399999997%2C%20-46.6665394%5D%2C%20%5B-23.6245325%2C%20-46.7010044%5D%2C%20%5B-23.6245682%2C%20-46.7009553%5D%2C%20%5B-23.5594719%2C%20-46.66641129999999%5D%2C%20%5B-23.6246338%2C%20-46.7009416%5D%2C%20%5B-23.55945%2C%20-46.66646%5D%2C%20%5B-23.624521899999998%2C%20-46.70113610000001%5D%2C%20%5B-23.589769399999998%2C%20-46.634021399999995%5D%2C%20%5B-23.568199%2C%20-46.64810429999999%5D%2C%20%5B-23.559377899999998%2C%20-46.6664841%5D%2C%20%5B-23.6245191%2C%20-46.7010364%5D%2C%20%5B-23.624603%2C%20-46.7009155%5D%2C%20%5B-23.624540600000003%2C%20-46.7011174%5D%2C%20%5B-23.624573%2C%20-46.7009811%5D%2C%20%5B-23.554226999999997%2C%20-46.6560723%5D%2C%20%5B-23.6245017%2C%20-46.700992%5D%2C%20%5B-23.6245215%2C%20-46.701114600000004%5D%2C%20%5B-23.624533399999997%2C%20-46.7010361%5D%2C%20%5B-23.6245533%2C%20-46.700998999999996%5D%2C%20%5B-23.6245483%2C%20-46.700760700000004%5D%2C%20%5B-23.5592766%2C%20-46.666640799999996%5D%2C%20%5B-23.624563199999997%2C%20-46.701107799999996%5D%2C%20%5B-23.559292499999998%2C%20-46.6664492%5D%2C%20%5B-23.5593245%2C%20-46.666535700000004%5D%2C%20%5B-23.6245428%2C%20-46.701018299999994%5D%2C%20%5B-23.6244904%2C%20-46.70096420000001%5D%2C%20%5B-23.5593177%2C%20-46.66646970000001%5D%2C%20%5B-23.5897198%2C%20-46.6340898%5D%2C%20%5B-23.6247%2C%20-46.70114%5D%2C%20%5B-23.559347100000004%2C%20-46.6663865%5D%2C%20%5B-23.559959399999997%2C%20-46.6966915%5D%2C%20%5B-23.6236397%2C%20-46.699695500000004%5D%2C%20%5B-23.5666085%2C%20-46.679704%5D%2C%20%5B-23.6246805%2C%20-46.700688%5D%2C%20%5B-23.5595676%2C%20-46.6651815%5D%2C%20%5B-23.6245537%2C%20-46.7009911%5D%2C%20%5B-23.6246039%2C%20-46.701129200000004%5D%2C%20%5B-23.5593657%2C%20-46.6664886%5D%2C%20%5B-23.6246512%2C%20-46.7012253%5D%2C%20%5B-23.559357300000002%2C%20-46.666608399999994%5D%2C%20%5B-23.62508%2C%20-46.700829999999996%5D%2C%20%5B-23.5591479%2C%20-46.6665651%5D%2C%20%5B-23.49942%2C%20-46.83712%5D%2C%20%5B-23.5681581%2C%20-46.648213%5D%2C%20%5B-23.5513271%2C%20-46.678276700000005%5D%2C%20%5B-23.55944%2C%20-46.666470000000004%5D%2C%20%5B-23.6251984%2C%20-46.7009311%5D%2C%20%5B-23.6328069%2C%20-46.6934561%5D%2C%20%5B-23.559358%2C%20-46.6664925%5D%2C%20%5B-23.5897093%2C%20-46.63414470000001%5D%2C%20%5B-23.583881100000003%2C%20-46.6736383%5D%2C%20%5B-23.5630458%2C%20-46.672651200000004%5D%2C%20%5B-23.5593337%2C%20-46.666548799999994%5D%2C%20%5B-23.6112972%2C%20-46.57073629999999%5D%2C%20%5B-23.5898961%2C%20-46.63470770000001%5D%2C%20%5B-23.564655%2C%20-46.680374900000004%5D%2C%20%5B-23.589739399999996%2C%20-46.6339828%5D%2C%20%5B-23.5901449%2C%20-46.634857000000004%5D%2C%20%5B-23.592574399999997%2C%20-46.648550799999995%5D%2C%20%5B-23.6113086%2C%20-46.5708697%5D%2C%20%5B-23.61126%2C%20-46.57101%5D%2C%20%5B-23.611171399999996%2C%20-46.571065000000004%5D%2C%20%5B-23.611154100000004%2C%20-46.571008899999995%5D%2C%20%5B-23.5897361%2C%20-46.6342802%5D%2C%20%5B-23.5593949%2C%20-46.6665817%5D%2C%20%5B-23.5578081%2C%20-46.6817216%5D%2C%20%5B-23.6113211%2C%20-46.5707727%5D%2C%20%5B-23.611273699999998%2C%20-46.570818%5D%2C%20%5B-23.5896776%2C%20-46.633922399999996%5D%2C%20%5B-23.6114832%2C%20-46.570899%5D%2C%20%5B-23.61135%2C%20-46.57091%5D%2C%20%5B-23.6113042%2C%20-46.5708159%5D%2C%20%5B-23.6113413%2C%20-46.5707881%5D%2C%20%5B-23.611366500000003%2C%20-46.5709412%5D%2C%20%5B-23.611489600000002%2C%20-46.570840600000004%5D%2C%20%5B-23.559419100000003%2C%20-46.6663381%5D%2C%20%5B-23.5688799%2C%20-46.6610875%5D%2C%20%5B-23.611196%2C%20-46.571191%5D%2C%20%5B-23.623522199999996%2C%20-46.5656995%5D%2C%20%5B-23.61148%2C%20-46.570809999999994%5D%2C%20%5B-23.5897059%2C%20-46.6340259%5D%2C%20%5B-23.576528500000002%2C%20-46.657221%5D%2C%20%5B-23.6113663%2C%20-46.570859999999996%5D%2C%20%5B-23.6234363%2C%20-46.5657323%5D%2C%20%5B-23.6114641%2C%20-46.570791%5D%2C%20%5B-23.581313100000003%2C%20-46.680536100000005%5D%2C%20%5B-23.55931%2C%20-46.66663%5D%2C%20%5B-23.56342%2C%20-46.65128%5D%2C%20%5B-23.559365300000003%2C%20-46.6664751%5D%2C%20%5B-23.611434699999997%2C%20-46.5707262%5D%2C%20%5B-23.623587899999997%2C%20-46.5657363%5D%2C%20%5B-23.6190552%2C%20-46.565603100000004%5D%2C%20%5B-23.611284%2C%20-46.5710134%5D%2C%20%5B-23.6114657%2C%20-46.5707776%5D%2C%20%5B-23.6113924%2C%20-46.570781%5D%2C%20%5B-23.611348899999996%2C%20-46.5708553%5D%2C%20%5B-23.589699%2C%20-46.6338321%5D%2C%20%5B-23.5897046%2C%20-46.6342625%5D%2C%20%5B-23.559320800000002%2C%20-46.6665461%5D%2C%20%5B-23.499651%2C%20-46.6443482%5D%2C%20%5B-23.5897766%2C%20-46.6350174%5D%2C%20%5B-23.571854100000003%2C%20-46.6435307%5D%2C%20%5B-23.5897042%2C%20-46.6340583%5D%2C%20%5B-23.5592778%2C%20-46.66649279999999%5D%2C%20%5B-23.5897152%2C%20-46.6339973%5D%2C%20%5B-23.565479999999997%2C%20-46.666290000000004%5D%2C%20%5B-23.589733300000002%2C%20-46.6340835%5D%2C%20%5B-23.626772600000002%2C%20-46.5798585%5D%2C%20%5B-23.6114035%2C%20-46.5707249%5D%2C%20%5B-23.5897353%2C%20-46.6342724%5D%2C%20%5B-23.5691332%2C%20-46.660216299999995%5D%2C%20%5B-23.5593737%2C%20-46.6663778%5D%2C%20%5B-23.589741500000002%2C%20-46.6342876%5D%2C%20%5B-23.589710999999998%2C%20-46.6341624%5D%2C%20%5B-23.5899127%2C%20-46.63473629999999%5D%2C%20%5B-23.5552%2C%20-46.65715%5D%2C%20%5B-23.5610824%2C%20-46.6920423%5D%2C%20%5B-23.5706603%2C%20-46.693383000000004%5D%2C%20%5B-23.589797100000002%2C%20-46.634184000000005%5D%2C%20%5B-23.6113438%2C%20-46.570978000000004%5D%2C%20%5B-23.5896775%2C%20-46.6342089%5D%2C%20%5B-23.5592277%2C%20-46.663133200000004%5D%2C%20%5B-23.58854%2C%20-46.67881%5D%2C%20%5B-23.5691248%2C%20-46.6612174%5D%2C%20%5B-23.58967%2C%20-46.63399999999999%5D%2C%20%5B-23.559376399999998%2C%20-46.663188899999994%5D%2C%20%5B-23.5462117%2C%20-46.6486085%5D%2C%20%5B-23.5896768%2C%20-46.6341683%5D%2C%20%5B-23.6090984%2C%20-46.6666032%5D%2C%20%5B-23.6114817%2C%20-46.5706559%5D%2C%20%5B-23.6114035%2C%20-46.5708554%5D%2C%20%5B-23.61151%2C%20-46.57074%5D%2C%20%5B-23.5592587%2C%20-46.66303%5D%2C%20%5B-23.589722199999997%2C%20-46.6341299%5D%2C%20%5B-23.5690166%2C%20-46.661077%5D%2C%20%5B-23.5593704%2C%20-46.6632237%5D%2C%20%5B-23.536877800000003%2C%20-46.663444500000004%5D%2C%20%5B-23.6114086%2C%20-46.5707626%5D%2C%20%5B-23.5036558%2C%20-46.6370967%5D%2C%20%5B-23.513920199999998%2C%20-46.6191831%5D%2C%20%5B-23.5144517%2C%20-46.616363299999996%5D%2C%20%5B-23.5690601%2C%20-46.661112700000004%5D%2C%20%5B-23.5036539%2C%20-46.63715429999999%5D%2C%20%5B-23.5617133%2C%20-46.658159000000005%5D%2C%20%5B-23.55575%2C%20-46.655261700000004%5D%2C%20%5B-23.559364600000002%2C%20-46.6632126%5D%2C%20%5B-23.5542748%2C%20-46.6561255%5D%2C%20%5B-23.5592926%2C%20-46.6631932%5D%2C%20%5B-23.5593606%2C%20-46.6631198%5D%2C%20%5B-23.5716401%2C%20-46.688249600000006%5D%2C%20%5B-23.56023173%2C%20-46.66414962%5D%2C%20%5B-23.5033043%2C%20-46.636905%5D%2C%20%5B-23.6113175%2C%20-46.570826200000006%5D%2C%20%5B-23.5593419%2C%20-46.6632209%5D%2C%20%5B-23.5619878%2C%20-46.6582328%5D%2C%20%5B-23.6116444%2C%20-46.5705324%5D%2C%20%5B-23.558985500000002%2C%20-46.6632146%5D%2C%20%5B-23.61134745%2C%20-46.57079129%5D%2C%20%5B-23.503642499999998%2C%20-46.63718660000001%5D%2C%20%5B-23.6105865%2C%20-46.570705%5D%2C%20%5B-23.5036788%2C%20-46.637128999999995%5D%2C%20%5B-23.5037043%2C%20-46.6327645%5D%2C%20%5B-23.5621533%2C%20-46.6578083%5D%2C%20%5B-23.619060100000002%2C%20-46.5656531%5D%2C%20%5B-23.611265%2C%20-46.571259999999995%5D%2C%20%5B-23.5690588%2C%20-46.661178799999995%5D%2C%20%5B-23.503572199999997%2C%20-46.6373399%5D%2C%20%5B-23.611106699999997%2C%20-46.5710737%5D%2C%20%5B-23.503427399999996%2C%20-46.637271999999996%5D%2C%20%5B-23.5630296%2C%20-46.667031099999996%5D%2C%20%5B-23.573636399999998%2C%20-46.6556252%5D%2C%20%5B-23.597008300000002%2C%20-46.574844299999995%5D%2C%20%5B-23.5592227%2C%20-46.6632374%5D%2C%20%5B-23.5536201%2C%20-46.69422720000001%5D%2C%20%5B-23.5595104%2C%20-46.663229%5D%2C%20%5B-23.503677%2C%20-46.6368987%5D%2C%20%5B-23.55945%2C%20-46.6632417%5D%2C%20%5B-23.559251800000002%2C%20-46.6630182%5D%2C%20%5B-23.5577831%2C%20-46.689819799999995%5D%2C%20%5B-23.559431699999998%2C%20-46.663317299999996%5D%2C%20%5B-23.5867741%2C%20-46.642758%5D%2C%20%5B-23.6113574%2C%20-46.570866200000005%5D%2C%20%5B-23.503575899999998%2C%20-46.6371187%5D%2C%20%5B-23.61134558%2C%20-46.57091107%5D%2C%20%5B-23.503660999999997%2C%20-46.6371771%5D%2C%20%5B-23.611381100000003%2C%20-46.570752299999995%5D%2C%20%5B-23.6114569%2C%20-46.5707386%5D%2C%20%5B-23.5036469%2C%20-46.637156700000006%5D%2C%20%5B-23.5032638%2C%20-46.624626299999996%5D%2C%20%5B-23.559287899999998%2C%20-46.6632155%5D%2C%20%5B-23.5036424%2C%20-46.6369836%5D%2C%20%5B-23.6113486%2C%20-46.5709126%5D%2C%20%5B-23.5601571%2C%20-46.677414500000005%5D%2C%20%5B-23.6111022%2C%20-46.57182%5D%2C%20%5B-23.611241399999997%2C%20-46.570844799999996%5D%2C%20%5B-23.5693051%2C%20-46.659924600000004%5D%2C%20%5B-23.558327300000002%2C%20-46.660576299999995%5D%2C%20%5B-23.5594438%2C%20-46.6633356%5D%2C%20%5B-23.5593885%2C%20-46.6632331%5D%2C%20%5B-23.611314%2C%20-46.57088793%5D%2C%20%5B-23.559423499999998%2C%20-46.6633392%5D%2C%20%5B-23.503640899999997%2C%20-46.637310299999996%5D%2C%20%5B-23.5032905%2C%20-46.636949200000004%5D%2C%20%5B-23.503256399999998%2C%20-46.6367743%5D%2C%20%5B-23.5588653%2C%20-46.6908072%5D%2C%20%5B-23.611430300000002%2C%20-46.570859999999996%5D%2C%20%5B-23.583412300000003%2C%20-46.6704481%5D%2C%20%5B-23.5035727%2C%20-46.63709984%5D%2C%20%5B-23.6234972%2C%20-46.5657367%5D%2C%20%5B-23.5033104%2C%20-46.6368075%5D%2C%20%5B-23.561847600000004%2C%20-46.6581413%5D%2C%20%5B-23.5032674%2C%20-46.63690220000001%5D%2C%20%5B-23.503442899999996%2C%20-46.637760799999995%5D%2C%20%5B-23.5578202%2C%20-46.689901%5D%2C%20%5B-23.5019996%2C%20-46.6273084%5D%2C%20%5B-23.5032578%2C%20-46.636745899999994%5D%2C%20%5B-23.5032054%2C%20-46.6370109%5D%2C%20%5B-23.5575996%2C%20-46.6895355%5D%2C%20%5B-23.5032828%2C%20-46.6368119%5D%2C%20%5B-23.5032569%2C%20-46.6370334%5D%2C%20%5B-23.5032128%2C%20-46.6379457%5D%2C%20%5B-23.61105%2C%20-46.6948029%5D%2C%20%5B-23.6112101%2C%20-46.5710416%5D%2C%20%5B-23.6019667%2C%20-46.673638200000006%5D%2C%20%5B-23.503258300000002%2C%20-46.636860299999995%5D%2C%20%5B-23.5036192%2C%20-46.6371554%5D%2C%20%5B-23.556455399999997%2C%20-46.750291600000004%5D%2C%20%5B-23.561027600000003%2C%20-46.68262670000001%5D%2C%20%5B-23.503649399999997%2C%20-46.6371391%5D%2C%20%5B-23.5034208%2C%20-46.6368915%5D%2C%20%5B-23.503198100000002%2C%20-46.63726629999999%5D%2C%20%5B-23.5032457%2C%20-46.6366457%5D%2C%20%5B-23.6467813%2C%20-46.630431099999996%5D%2C%20%5B-23.5612468%2C%20-46.6565113%5D%2C%20%5B-23.503257%2C%20-46.637504799999995%5D%2C%20%5B-23.503255300000003%2C%20-46.637527899999995%5D%2C%20%5B-23.5032685%2C%20-46.6367701%5D%2C%20%5B-23.546632000000002%2C%20-46.60423370000001%5D%2C%20%5B-23.5954224%2C%20-46.690711900000004%5D%2C%20%5B-23.5032237%2C%20-46.637033200000005%5D%2C%20%5B-23.5025158%2C%20-46.636489700000006%5D%2C%20%5B-23.503397500000002%2C%20-46.6366088%5D%2C%20%5B-23.50243945%2C%20-46.63649619%5D%2C%20%5B-23.5032727%2C%20-46.636787%5D%2C%20%5B-23.5032013%2C%20-46.6377976%5D%2C%20%5B-23.5036221%2C%20-46.63715870000001%5D%2C%20%5B-23.6114767%2C%20-46.5707417%5D%2C%20%5B-23.503197%2C%20-46.636861100000004%5D%2C%20%5B-23.611131600000004%2C%20-46.5711237%5D%2C%20%5B-23.6234899%2C%20-46.56568239999999%5D%2C%20%5B-23.5032882%2C%20-46.6367482%5D%2C%20%5B-23.503291%2C%20-46.636849%5D%2C%20%5B-23.5032675%2C%20-46.636933899999995%5D%2C%20%5B-23.5951242%2C%20-46.691146%5D%2C%20%5B-23.5595898%2C%20-46.6890604%5D%2C%20%5B-23.503200800000002%2C%20-46.637593200000005%5D%2C%20%5B-23.5032163%2C%20-46.6377011%5D%2C%20%5B-23.432194199999998%2C%20-45.068019%5D%2C%20%5B-23.5032193%2C%20-46.637714100000004%5D%2C%20%5B-23.503550399999998%2C%20-46.6374929%5D%2C%20%5B-23.5617439%2C%20-46.657928999999996%5D%2C%20%5B-23.5036461%2C%20-46.6371739%5D%2C%20%5B-23.5039759%2C%20-46.639198%5D%2C%20%5B-23.518191899999998%2C%20-46.6766396%5D%2C%20%5B-23.5035167%2C%20-46.637355%5D%2C%20%5B-23.5036583%2C%20-46.6368817%5D%2C%20%5B-23.503672199999997%2C%20-46.6372957%5D%2C%20%5B-23.5036414%2C%20-46.6367785%5D%2C%20%5B-23.593877300000003%2C%20-46.691242700000004%5D%2C%20%5B-23.5033387%2C%20-46.63721339999999%5D%2C%20%5B-23.5033095%2C%20-46.6372907%5D%2C%20%5B-23.503363399999998%2C%20-46.6369551%5D%2C%20%5B-23.530175%2C%20-46.666265%5D%2C%20%5B-23.5036347%2C%20-46.637124%5D%2C%20%5B-23.503322%2C%20-46.6366226%5D%2C%20%5B-23.4878848%2C%20-46.5947091%5D%2C%20%5B-23.5578345%2C%20-46.689876299999995%5D%2C%20%5B-23.503591%2C%20-46.6371741%5D%2C%20%5B-23.5823728%2C%20-46.6644769%5D%2C%20%5B-23.5616819%2C%20-46.658152%5D%2C%20%5B-23.5037175%2C%20-46.6371653%5D%2C%20%5B-23.975838500000002%2C%20-46.3011899%5D%2C%20%5B-23.503256600000004%2C%20-46.6371156%5D%2C%20%5B-23.6107181%2C%20-46.5702805%5D%2C%20%5B-23.503362699999997%2C%20-46.63673%5D%2C%20%5B-23.503292000000002%2C%20-46.6372564%5D%2C%20%5B-23.5032173%2C%20-46.6376465%5D%2C%20%5B-23.503255%2C%20-46.637324299999996%5D%2C%20%5B-23.5034308%2C%20-46.636473200000005%5D%2C%20%5B-23.611361499999997%2C%20-46.570837700000006%5D%2C%20%5B-23.50326%2C%20-46.6370583%5D%2C%20%5B-23.975371600000003%2C%20-46.300870700000004%5D%2C%20%5B-23.954715300000004%2C%20-46.346224%5D%2C%20%5B-23.975798899999997%2C%20-46.301235999999996%5D%2C%20%5B-23.503258300000002%2C%20-46.6372733%5D%2C%20%5B-23.503204399999998%2C%20-46.6368571%5D%2C%20%5B-23.503307100000004%2C%20-46.6370396%5D%2C%20%5B-23.50330782%2C%20-46.63752702%5D%2C%20%5B-23.62207%2C%20-46.56985%5D%2C%20%5B-23.5032122%2C%20-46.637111%5D%2C%20%5B-23.503190300000004%2C%20-46.6368144%5D%2C%20%5B-23.5036026%2C%20-46.6373307%5D%2C%20%5B-23.480531699999997%2C%20-46.6064783%5D%2C%20%5B-23.503313199999997%2C%20-46.6366607%5D%2C%20%5B-23.5157182%2C%20-46.619488%5D%2C%20%5B-23.503614000000002%2C%20-46.637297700000005%5D%2C%20%5B-23.5032991%2C%20-46.6371265%5D%2C%20%5B-23.503618%2C%20-46.637300700000004%5D%2C%20%5B-23.60177075%2C%20-46.67760154%5D%2C%20%5B-23.5032867%2C%20-46.6366951%5D%2C%20%5B-23.5032866%2C%20-46.6368266%5D%2C%20%5B-23.50329369%2C%20-46.6367841%5D%2C%20%5B-23.58443324%2C%20-46.60516321%5D%2C%20%5B-23.503291600000004%2C%20-46.6371331%5D%2C%20%5B-23.5033033%2C%20-46.636945000000004%5D%2C%20%5B-23.5036273%2C%20-46.6368185%5D%2C%20%5B-23.503277999999998%2C%20-46.63684979999999%5D%2C%20%5B-23.5033267%2C%20-46.6367883%5D%2C%20%5B-23.503308399999998%2C%20-46.637316299999995%5D%2C%20%5B-23.503295899999998%2C%20-46.63728270000001%5D%2C%20%5B-23.503284100000002%2C%20-46.6373566%5D%2C%20%5B-23.5031%2C%20-46.63692%5D%2C%20%5B-23.503335%2C%20-46.636675%5D%2C%20%5B-23.5032604%2C%20-46.636760100000004%5D%2C%20%5B-23.610817800000003%2C%20-46.5702857%5D%2C%20%5B-23.503289000000002%2C%20-46.636919899999995%5D%2C%20%5B-23.6111832%2C%20-46.5706626%5D%2C%20%5B-23.503284899999997%2C%20-46.637382200000005%5D%2C%20%5B-23.6115179%2C%20-46.570634399999996%5D%2C%20%5B-23.503245800000002%2C%20-46.636760200000005%5D%2C%20%5B-23.5032714%2C%20-46.6376718%5D%2C%20%5B-23.6220504%2C%20-46.5701294%5D%2C%20%5B-23.5036595%2C%20-46.6368117%5D%2C%20%5B-23.6113573%2C%20-46.570728700000004%5D%2C%20%5B-23.5047575%2C%20-46.628152%5D%2C%20%5B-23.50331184%2C%20-46.63734066%5D%2C%20%5B-23.6037844%2C%20-46.6446635%5D%2C%20%5B-23.6112857%2C%20-46.570795600000004%5D%2C%20%5B-23.503144%2C%20-46.6368201%5D%2C%20%5B-23.503297600000003%2C%20-46.635071999999994%5D%2C%20%5B-23.6114053%2C%20-46.6679377%5D%2C%20%5B-23.5032706%2C%20-46.6368144%5D%2C%20%5B-23.503453699999998%2C%20-46.6381879%5D%2C%20%5B-23.5032248%2C%20-46.6369166%5D%2C%20%5B-23.5032941%2C%20-46.636939500000004%5D%2C%20%5B-23.503383300000003%2C%20-46.63302%5D%2C%20%5B-23.503285%2C%20-46.6379517%5D%2C%20%5B-23.503304999999997%2C%20-46.6368483%5D%2C%20%5B-23.5585955%2C%20-46.6599003%5D%2C%20%5B-23.5033176%2C%20-46.6369607%5D%2C%20%5B-23.503308399999998%2C%20-46.6370028%5D%2C%20%5B-23.611780800000002%2C%20-46.5695641%5D%2C%20%5B-23.6028056%2C%20-46.6743477%5D%2C%20%5B-23.611415899999997%2C%20-46.570721%5D%2C%20%5B-23.6110598%2C%20-46.5710098%5D%2C%20%5B-23.61111%2C%20-46.57121%5D%2C%20%5B-23.61129%2C%20-46.5710217%5D%2C%20%5B-23.61133%2C%20-46.57136%5D%2C%20%5B-23.6114714%2C%20-46.570674100000005%5D%2C%20%5B-23.611185199999998%2C%20-46.5710471%5D%2C%20%5B-23.6114917%2C%20-46.570634999999996%5D%2C%20%5B-23.611147600000002%2C%20-46.571028000000005%5D%2C%20%5B-23.611147600000002%2C%20-46.5709583%5D%2C%20%5B-23.6111639%2C%20-46.5708754%5D%2C%20%5B-23.6113337%2C%20-46.570764600000004%5D%2C%20%5B-23.611252899999997%2C%20-46.57102379999999%5D%2C%20%5B-23.611598899999997%2C%20-46.570663700000004%5D%2C%20%5B-23.6112042%2C%20-46.571067299999996%5D%2C%20%5B-23.6113167%2C%20-46.5708367%5D%2C%20%5B-23.6111309%2C%20-46.5712652%5D%2C%20%5B-23.6110929%2C%20-46.5711355%5D%2C%20%5B-23.6111595%2C%20-46.571014%5D%2C%20%5B-23.6026476%2C%20-46.6453556%5D%2C%20%5B-23.611140399999996%2C%20-46.5712019%5D%2C%20%5B-23.6027646%2C%20-46.645182299999995%5D%2C%20%5B-23.565888%2C%20-46.6846089%5D%2C%20%5B-23.611128100000002%2C%20-46.5708975%5D%2C%20%5B-23.6111639%2C%20-46.5710143%5D%2C%20%5B-23.610940499999998%2C%20-46.570815100000004%5D%2C%20%5B-23.611096300000003%2C%20-46.57110479999999%5D%2C%20%5B-23.611162399999998%2C%20-46.5710234%5D%2C%20%5B-23.611147199999998%2C%20-46.5712045%5D%2C%20%5B-23.6110169%2C%20-46.5711359%5D%2C%20%5B-23.6111973%2C%20-46.5710136%5D%2C%20%5B-23.6025022%2C%20-46.6450023%5D%2C%20%5B-23.6111199%2C%20-46.571062899999994%5D%2C%20%5B-23.6112753%2C%20-46.5708652%5D%2C%20%5B-23.611356699999998%2C%20-46.57090170000001%5D%2C%20%5B-23.6110715%2C%20-46.5709414%5D%2C%20%5B-23.5976648%2C%20-46.6235027%5D%2C%20%5B-23.61124989%2C%20-46.57104947%5D%2C%20%5B-23.5740178%2C%20-46.69618320000001%5D%2C%20%5B-23.593481399999998%2C%20-46.6527237%5D%2C%20%5B-23.620590600000003%2C%20-46.6622467%5D%2C%20%5B-23.6027117%2C%20-46.6453367%5D%2C%20%5B-23.6110017%2C%20-46.5711467%5D%2C%20%5B-23.611186399999998%2C%20-46.571051399999995%5D%2C%20%5B-23.602951100000002%2C%20-46.645261%5D%2C%20%5B-23.6111339%2C%20-46.5717526%5D%2C%20%5B-23.6112239%2C%20-46.57100560000001%5D%2C%20%5B-23.6108462%2C%20-46.571473600000004%5D%2C%20%5B-23.6026436%2C%20-46.645322%5D%2C%20%5B-23.61320343%2C%20-46.57176448%5D%2C%20%5B-23.6112543%2C%20-46.5708784%5D%2C%20%5B-23.6111272%2C%20-46.570994899999995%5D%2C%20%5B-23.61118154%2C%20-46.57110295%5D%2C%20%5B-22.903056699999997%2C%20-43.1346819%5D%2C%20%5B-22.902098199999998%2C%20-43.114359%5D%2C%20%5B-23.602656399999997%2C%20-46.645094799999995%5D%2C%20%5B-23.60262936%2C%20-46.64534986%5D%2C%20%5B-23.6026706%2C%20-46.6650192%5D%2C%20%5B-23.6110216%2C%20-46.571107%5D%2C%20%5B-23.6135612%2C%20-46.576379700000004%5D%2C%20%5B-23.6026544%2C%20-46.64535720000001%5D%2C%20%5B-23.6160678%2C%20-46.665921999999995%5D%2C%20%5B-23.602760399999998%2C%20-46.6448974%5D%2C%20%5B-23.6027366%2C%20-46.6453516%5D%2C%20%5B-23.5695488%2C%20-46.672412200000004%5D%5D%2C%0A%20%20%20%20%20%20%20%20%20%20%20%20%20%20%20%20%7B%0A%20%20%20%20%20%20%20%20%20%20%20%20%20%20%20%20%20%20%20%20minOpacity%3A%200.5%2C%0A%20%20%20%20%20%20%20%20%20%20%20%20%20%20%20%20%20%20%20%20maxZoom%3A%2018%2C%0A%20%20%20%20%20%20%20%20%20%20%20%20%20%20%20%20%20%20%20%20max%3A%201.0%2C%0A%20%20%20%20%20%20%20%20%20%20%20%20%20%20%20%20%20%20%20%20radius%3A%2025%2C%0A%20%20%20%20%20%20%20%20%20%20%20%20%20%20%20%20%20%20%20%20blur%3A%2015%2C%0A%20%20%20%20%20%20%20%20%20%20%20%20%20%20%20%20%20%20%20%20gradient%3A%20null%0A%20%20%20%20%20%20%20%20%20%20%20%20%20%20%20%20%20%20%20%20%7D%29%0A%20%20%20%20%20%20%20%20%20%20%20%20%20%20%20%20.addTo%28map_c06f9d040f854e7f8de1d453d6924392%29%3B%0A%20%20%20%20%20%20%20%20%0A%3C/script%3E onload=\"this.contentDocument.open();this.contentDocument.write(    decodeURIComponent(this.getAttribute('data-html')));this.contentDocument.close();\" allowfullscreen webkitallowfullscreen mozallowfullscreen></iframe></div></div>"
            ],
            "text/plain": [
              "<folium.folium.Map at 0x7f47dd47cf60>"
            ]
          },
          "metadata": {
            "tags": []
          },
          "execution_count": 21
        }
      ]
    },
    {
      "cell_type": "markdown",
      "metadata": {
        "id": "ausPKy-bdaJ6"
      },
      "source": [
        "###**What product type is usually chosen?**\r\n",
        "\r\n",
        "**UberX** is far the prefered product type with a frequency of **90.3%**. So I could say I am the type of user which usually looks for **affordable prices**."
      ]
    },
    {
      "cell_type": "code",
      "metadata": {
        "colab": {
          "base_uri": "https://localhost:8080/",
          "height": 353
        },
        "id": "OKg7fQp-63X9",
        "outputId": "b3ab53b8-7279-410e-ea62-154fcbb605cf"
      },
      "source": [
        "# Creating a serie with product types count\r\n",
        "pt_rides = pd.Series(completed_rides.product_type.value_counts().sort_index(ascending=False))\r\n",
        "# Transforming serie in dataframe\r\n",
        "df = pd.DataFrame(pt_rides)\r\n",
        "# Including new column with trips portion\r\n",
        "df['%'] = (completed_rides.product_type.value_counts().sort_index(ascending=False)/completed_rides.product_type.size*100).round(1)\r\n",
        "#Renaming columns labels\r\n",
        "df.rename(columns={'product_type':'Total Rides'}, inplace=True)\r\n",
        "print(df)\r\n",
        "# Plotting product types count\r\n",
        "completed_rides['product_type'].value_counts().plot(kind='bar');"
      ],
      "execution_count": 169,
      "outputs": [
        {
          "output_type": "stream",
          "text": [
            "       Total Rides     %\n",
            "UberX          401  90.3\n",
            "Pool            39   8.8\n",
            "Black            4   0.9\n"
          ],
          "name": "stdout"
        },
        {
          "output_type": "display_data",
          "data": {
            "image/png": "[encoded data removed]",
            "text/plain": [
              "<Figure size 432x288 with 1 Axes>"
            ]
          },
          "metadata": {
            "tags": [],
            "needs_background": "light"
          }
        }
      ]
    },
    {
      "cell_type": "markdown",
      "metadata": {
        "id": "j9j6AXb9ddRK"
      },
      "source": [
        "###**How much is the average fare and how much is payed by km ridden?**\r\n",
        "Considering all trips, the average amount spent by trip is **19.2 BRL**, ridding in approx. **8.1 km**. So, if we do a quick simulation on **how much I would spend in a year** to do daily round trips we would have: ```365 days * 2 trips * 19.2 BRL/fare = 14,016 BRL/year```"
      ]
    },
    {
      "cell_type": "code",
      "metadata": {
        "colab": {
          "base_uri": "https://localhost:8080/"
        },
        "id": "4GOswE2F63yF",
        "outputId": "7c86eb7b-1013-4c94-be9b-ed763c79e319"
      },
      "source": [
        "print('Avg. fare:', round(completed_rides.fare_amount.mean(),1),'BRL')\r\n",
        "print('Avg. distance:',round(completed_rides.distance_km.mean(),1),'km')\r\n",
        "print('Avg. fare/km:',round(completed_rides.fare_amount.sum()/completed_rides.distance_km.sum(),1),'BRL/km')\r\n",
        "print('Avg. time spent on trips:',round(completed_rides.trip_duration.mean(),1),'minutes')\r\n",
        "print('')\r\n",
        "print('Total fare amount:', round(completed_rides.fare_amount.sum(),1),'BRL')\r\n",
        "print('Total distance:',round(completed_rides.distance_km.sum(),1),'km')\r\n",
        "print('Total time spent on trips:',round(completed_rides.trip_duration.sum()/60,1),'hours')"
      ],
      "execution_count": 188,
      "outputs": [
        {
          "output_type": "stream",
          "text": [
            "Avg. fare: 19.2 BRL\n",
            "Avg. distance: 8.1 km\n",
            "Avg. fare/km: 2.4 BRL/km\n",
            "Avg. time spent on trips: 21.4 minutes\n",
            "\n",
            "Total fare amount: 8532.8 BRL\n",
            "Total distance: 3575.0 km\n",
            "Total time spent on trips: 158.4 hours\n"
          ],
          "name": "stdout"
        }
      ]
    },
    {
      "cell_type": "markdown",
      "metadata": {
        "id": "nD_nhL5xdgPf"
      },
      "source": [
        "###**Which weekdays have the highest average fares?**\r\n",
        "According to the chart below, we can see that **Tuesdays** and **Sundays** were (in average) the **most expensive weekdays**, as  well as the days with **higher price elasticity**, described by black lines."
      ]
    },
    {
      "cell_type": "code",
      "metadata": {
        "colab": {
          "base_uri": "https://localhost:8080/",
          "height": 256
        },
        "id": "8w0Ebuzgjv1Y",
        "outputId": "6fb81552-420c-44c4-cf8b-cc9b91b6b4e5"
      },
      "source": [
        "table= completed_rides.pivot_table(values='fare_amount',columns='weekday',aggfunc='mean', index='year').round()\r\n",
        "column_order = ['Mon','Tue','Wed','Thu','Fri','Sat','Sun']\r\n",
        "table = table.reindex(column_order, axis=1)\r\n",
        "table"
      ],
      "execution_count": 92,
      "outputs": [
        {
          "output_type": "execute_result",
          "data": {
            "text/html": [
              "<div>\n",
              "<style scoped>\n",
              "    .dataframe tbody tr th:only-of-type {\n",
              "        vertical-align: middle;\n",
              "    }\n",
              "\n",
              "    .dataframe tbody tr th {\n",
              "        vertical-align: top;\n",
              "    }\n",
              "\n",
              "    .dataframe thead th {\n",
              "        text-align: right;\n",
              "    }\n",
              "</style>\n",
              "<table border=\"1\" class=\"dataframe\">\n",
              "  <thead>\n",
              "    <tr style=\"text-align: right;\">\n",
              "      <th>weekday</th>\n",
              "      <th>Mon</th>\n",
              "      <th>Tue</th>\n",
              "      <th>Wed</th>\n",
              "      <th>Thu</th>\n",
              "      <th>Fri</th>\n",
              "      <th>Sat</th>\n",
              "      <th>Sun</th>\n",
              "    </tr>\n",
              "    <tr>\n",
              "      <th>year</th>\n",
              "      <th></th>\n",
              "      <th></th>\n",
              "      <th></th>\n",
              "      <th></th>\n",
              "      <th></th>\n",
              "      <th></th>\n",
              "      <th></th>\n",
              "    </tr>\n",
              "  </thead>\n",
              "  <tbody>\n",
              "    <tr>\n",
              "      <th>2016</th>\n",
              "      <td>NaN</td>\n",
              "      <td>NaN</td>\n",
              "      <td>22.0</td>\n",
              "      <td>19.0</td>\n",
              "      <td>NaN</td>\n",
              "      <td>10.0</td>\n",
              "      <td>20.0</td>\n",
              "    </tr>\n",
              "    <tr>\n",
              "      <th>2017</th>\n",
              "      <td>18.0</td>\n",
              "      <td>24.0</td>\n",
              "      <td>21.0</td>\n",
              "      <td>17.0</td>\n",
              "      <td>13.0</td>\n",
              "      <td>19.0</td>\n",
              "      <td>19.0</td>\n",
              "    </tr>\n",
              "    <tr>\n",
              "      <th>2018</th>\n",
              "      <td>18.0</td>\n",
              "      <td>23.0</td>\n",
              "      <td>16.0</td>\n",
              "      <td>21.0</td>\n",
              "      <td>20.0</td>\n",
              "      <td>20.0</td>\n",
              "      <td>24.0</td>\n",
              "    </tr>\n",
              "    <tr>\n",
              "      <th>2019</th>\n",
              "      <td>22.0</td>\n",
              "      <td>18.0</td>\n",
              "      <td>15.0</td>\n",
              "      <td>18.0</td>\n",
              "      <td>16.0</td>\n",
              "      <td>12.0</td>\n",
              "      <td>17.0</td>\n",
              "    </tr>\n",
              "    <tr>\n",
              "      <th>2020</th>\n",
              "      <td>26.0</td>\n",
              "      <td>25.0</td>\n",
              "      <td>22.0</td>\n",
              "      <td>25.0</td>\n",
              "      <td>20.0</td>\n",
              "      <td>9.0</td>\n",
              "      <td>23.0</td>\n",
              "    </tr>\n",
              "    <tr>\n",
              "      <th>2021</th>\n",
              "      <td>NaN</td>\n",
              "      <td>NaN</td>\n",
              "      <td>25.0</td>\n",
              "      <td>NaN</td>\n",
              "      <td>NaN</td>\n",
              "      <td>NaN</td>\n",
              "      <td>34.0</td>\n",
              "    </tr>\n",
              "  </tbody>\n",
              "</table>\n",
              "</div>"
            ],
            "text/plain": [
              "weekday   Mon   Tue   Wed   Thu   Fri   Sat   Sun\n",
              "year                                             \n",
              "2016      NaN   NaN  22.0  19.0   NaN  10.0  20.0\n",
              "2017     18.0  24.0  21.0  17.0  13.0  19.0  19.0\n",
              "2018     18.0  23.0  16.0  21.0  20.0  20.0  24.0\n",
              "2019     22.0  18.0  15.0  18.0  16.0  12.0  17.0\n",
              "2020     26.0  25.0  22.0  25.0  20.0   9.0  23.0\n",
              "2021      NaN   NaN  25.0   NaN   NaN   NaN  34.0"
            ]
          },
          "metadata": {
            "tags": []
          },
          "execution_count": 92
        }
      ]
    },
    {
      "cell_type": "code",
      "metadata": {
        "colab": {
          "base_uri": "https://localhost:8080/",
          "height": 311
        },
        "id": "JRrDCDSepR7Y",
        "outputId": "862cd7cb-58cd-4965-86a9-edf78c2522f0"
      },
      "source": [
        "sns.catplot(x=\"weekday\", y=\"fare_amount\", data=completed_rides, kind='bar', height=4, aspect=3, \r\n",
        "            order=['Mon','Tue','Wed','Thu','Fri','Sat','Sun'],palette='magma');"
      ],
      "execution_count": 88,
      "outputs": [
        {
          "output_type": "display_data",
          "data": {
            "image/png": "[encoded data removed]",
            "text/plain": [
              "<Figure size 864x288 with 1 Axes>"
            ]
          },
          "metadata": {
            "tags": [],
            "needs_background": "light"
          }
        }
      ]
    },
    {
      "cell_type": "markdown",
      "metadata": {
        "id": "o3Wv_tZNdjvl"
      },
      "source": [
        "###**Which was the longest/shortest and more expensive/cheaper ride?**\r\n"
      ]
    },
    {
      "cell_type": "markdown",
      "metadata": {
        "id": "KH0W_NdP2sAv"
      },
      "source": [
        "The table below show records with the **longest (31.77 km)** and **shortest rides (0.24 km)**. "
      ]
    },
    {
      "cell_type": "code",
      "metadata": {
        "colab": {
          "base_uri": "https://localhost:8080/",
          "height": 160
        },
        "id": "KaOFsZ28oZd6",
        "outputId": "f438377b-4b5f-4d6f-928a-9fd0501e2fd8"
      },
      "source": [
        "rides_distance = completed_rides[completed_rides.distance_km==completed_rides.distance_km.max()]\r\n",
        "rides_distance = rides_distance.append(completed_rides[completed_rides.distance_km==completed_rides.distance_km.min()])\r\n",
        "rides_distance"
      ],
      "execution_count": 125,
      "outputs": [
        {
          "output_type": "execute_result",
          "data": {
            "text/html": [
              "<div>\n",
              "<style scoped>\n",
              "    .dataframe tbody tr th:only-of-type {\n",
              "        vertical-align: middle;\n",
              "    }\n",
              "\n",
              "    .dataframe tbody tr th {\n",
              "        vertical-align: top;\n",
              "    }\n",
              "\n",
              "    .dataframe thead th {\n",
              "        text-align: right;\n",
              "    }\n",
              "</style>\n",
              "<table border=\"1\" class=\"dataframe\">\n",
              "  <thead>\n",
              "    <tr style=\"text-align: right;\">\n",
              "      <th></th>\n",
              "      <th>city</th>\n",
              "      <th>product_type</th>\n",
              "      <th>status</th>\n",
              "      <th>request_time</th>\n",
              "      <th>begin_time</th>\n",
              "      <th>begin_lat</th>\n",
              "      <th>begin_lng</th>\n",
              "      <th>dropoff_time</th>\n",
              "      <th>dropoff_lat</th>\n",
              "      <th>dropoff_lng</th>\n",
              "      <th>distance_miles</th>\n",
              "      <th>fare_amount</th>\n",
              "      <th>year</th>\n",
              "      <th>month</th>\n",
              "      <th>weekday</th>\n",
              "      <th>time</th>\n",
              "      <th>distance_km</th>\n",
              "      <th>amount_km</th>\n",
              "      <th>request_lead_time</th>\n",
              "      <th>trip_duration</th>\n",
              "    </tr>\n",
              "  </thead>\n",
              "  <tbody>\n",
              "    <tr>\n",
              "      <th>3</th>\n",
              "      <td>458</td>\n",
              "      <td>UberX</td>\n",
              "      <td>COMPLETED</td>\n",
              "      <td>2020-12-11 23:16:33</td>\n",
              "      <td>2020-12-11 23:27:32</td>\n",
              "      <td>-23.559410</td>\n",
              "      <td>-46.666435</td>\n",
              "      <td>2020-12-12 00:32:47</td>\n",
              "      <td>-23.425755</td>\n",
              "      <td>-46.481190</td>\n",
              "      <td>19.74</td>\n",
              "      <td>58.77</td>\n",
              "      <td>2020</td>\n",
              "      <td>Dec</td>\n",
              "      <td>Fri</td>\n",
              "      <td>23:16</td>\n",
              "      <td>31.77</td>\n",
              "      <td>1.85</td>\n",
              "      <td>11.0</td>\n",
              "      <td>65.2</td>\n",
              "    </tr>\n",
              "    <tr>\n",
              "      <th>305</th>\n",
              "      <td>458</td>\n",
              "      <td>UberX</td>\n",
              "      <td>COMPLETED</td>\n",
              "      <td>2018-04-15 23:18:40</td>\n",
              "      <td>2018-04-15 23:27:42</td>\n",
              "      <td>-23.502636</td>\n",
              "      <td>-46.624952</td>\n",
              "      <td>2018-04-15 23:34:17</td>\n",
              "      <td>-23.503310</td>\n",
              "      <td>-46.636808</td>\n",
              "      <td>0.15</td>\n",
              "      <td>11.27</td>\n",
              "      <td>2018</td>\n",
              "      <td>Apr</td>\n",
              "      <td>Sun</td>\n",
              "      <td>23:18</td>\n",
              "      <td>0.24</td>\n",
              "      <td>46.96</td>\n",
              "      <td>9.0</td>\n",
              "      <td>6.6</td>\n",
              "    </tr>\n",
              "  </tbody>\n",
              "</table>\n",
              "</div>"
            ],
            "text/plain": [
              "     city product_type     status  ... amount_km request_lead_time  trip_duration\n",
              "3     458        UberX  COMPLETED  ...      1.85              11.0           65.2\n",
              "305   458        UberX  COMPLETED  ...     46.96               9.0            6.6\n",
              "\n",
              "[2 rows x 20 columns]"
            ]
          },
          "metadata": {
            "tags": []
          },
          "execution_count": 125
        }
      ]
    },
    {
      "cell_type": "markdown",
      "metadata": {
        "id": "YNWRM6wk3CsF"
      },
      "source": [
        "Analysing amount paid by km ridden we have: **expensive (46.96 BRL/km)** and **cheaper (0 BRL/km)**. Cheaper trip certainly refers to a free ride, while the expensive cost 46.96 BRL. This effect is basicaly driven by **fixed minimum fare in high demand periods**, since the total distance was only 0.24km."
      ]
    },
    {
      "cell_type": "code",
      "metadata": {
        "colab": {
          "base_uri": "https://localhost:8080/",
          "height": 160
        },
        "id": "AT5wli-wvC1K",
        "outputId": "240227cb-b179-44d2-8a7e-084285725d52"
      },
      "source": [
        "rides_amount_km = completed_rides[completed_rides.amount_km==completed_rides.amount_km.max()]\r\n",
        "rides_amount_km = rides_amount_km.append(completed_rides[completed_rides.amount_km==completed_rides.amount_km.min()])\r\n",
        "rides_amount_km"
      ],
      "execution_count": 127,
      "outputs": [
        {
          "output_type": "execute_result",
          "data": {
            "text/html": [
              "<div>\n",
              "<style scoped>\n",
              "    .dataframe tbody tr th:only-of-type {\n",
              "        vertical-align: middle;\n",
              "    }\n",
              "\n",
              "    .dataframe tbody tr th {\n",
              "        vertical-align: top;\n",
              "    }\n",
              "\n",
              "    .dataframe thead th {\n",
              "        text-align: right;\n",
              "    }\n",
              "</style>\n",
              "<table border=\"1\" class=\"dataframe\">\n",
              "  <thead>\n",
              "    <tr style=\"text-align: right;\">\n",
              "      <th></th>\n",
              "      <th>city</th>\n",
              "      <th>product_type</th>\n",
              "      <th>status</th>\n",
              "      <th>request_time</th>\n",
              "      <th>begin_time</th>\n",
              "      <th>begin_lat</th>\n",
              "      <th>begin_lng</th>\n",
              "      <th>dropoff_time</th>\n",
              "      <th>dropoff_lat</th>\n",
              "      <th>dropoff_lng</th>\n",
              "      <th>distance_miles</th>\n",
              "      <th>fare_amount</th>\n",
              "      <th>year</th>\n",
              "      <th>month</th>\n",
              "      <th>weekday</th>\n",
              "      <th>time</th>\n",
              "      <th>distance_km</th>\n",
              "      <th>amount_km</th>\n",
              "      <th>request_lead_time</th>\n",
              "      <th>trip_duration</th>\n",
              "    </tr>\n",
              "  </thead>\n",
              "  <tbody>\n",
              "    <tr>\n",
              "      <th>305</th>\n",
              "      <td>458</td>\n",
              "      <td>UberX</td>\n",
              "      <td>COMPLETED</td>\n",
              "      <td>2018-04-15 23:18:40</td>\n",
              "      <td>2018-04-15 23:27:42</td>\n",
              "      <td>-23.502636</td>\n",
              "      <td>-46.624952</td>\n",
              "      <td>2018-04-15 23:34:17</td>\n",
              "      <td>-23.503310</td>\n",
              "      <td>-46.636808</td>\n",
              "      <td>0.15</td>\n",
              "      <td>11.27</td>\n",
              "      <td>2018</td>\n",
              "      <td>Apr</td>\n",
              "      <td>Sun</td>\n",
              "      <td>23:18</td>\n",
              "      <td>0.24</td>\n",
              "      <td>46.96</td>\n",
              "      <td>9.0</td>\n",
              "      <td>6.6</td>\n",
              "    </tr>\n",
              "    <tr>\n",
              "      <th>87</th>\n",
              "      <td>458</td>\n",
              "      <td>UberX</td>\n",
              "      <td>COMPLETED</td>\n",
              "      <td>2019-11-30 03:34:56</td>\n",
              "      <td>2019-11-30 03:40:37</td>\n",
              "      <td>-23.591813</td>\n",
              "      <td>-46.690720</td>\n",
              "      <td>2019-11-30 03:53:24</td>\n",
              "      <td>-23.559366</td>\n",
              "      <td>-46.666489</td>\n",
              "      <td>3.54</td>\n",
              "      <td>0.00</td>\n",
              "      <td>2019</td>\n",
              "      <td>Nov</td>\n",
              "      <td>Sat</td>\n",
              "      <td>03:34</td>\n",
              "      <td>5.70</td>\n",
              "      <td>0.00</td>\n",
              "      <td>5.7</td>\n",
              "      <td>12.8</td>\n",
              "    </tr>\n",
              "  </tbody>\n",
              "</table>\n",
              "</div>"
            ],
            "text/plain": [
              "     city product_type     status  ... amount_km request_lead_time  trip_duration\n",
              "305   458        UberX  COMPLETED  ...     46.96               9.0            6.6\n",
              "87    458        UberX  COMPLETED  ...      0.00               5.7           12.8\n",
              "\n",
              "[2 rows x 20 columns]"
            ]
          },
          "metadata": {
            "tags": []
          },
          "execution_count": 127
        }
      ]
    },
    {
      "cell_type": "markdown",
      "metadata": {
        "id": "x6CAq0oAdpha"
      },
      "source": [
        "###**What is the average lead time before begining a trip?**\r\n",
        "\r\n",
        "It takes **approximately 5 minutes** to start trips, after they are requested."
      ]
    },
    {
      "cell_type": "code",
      "metadata": {
        "colab": {
          "base_uri": "https://localhost:8080/"
        },
        "id": "YzSaj6Od68Bs",
        "outputId": "eb0a7553-ec39-42a9-b88f-49f52bc45b41"
      },
      "source": [
        "print(round(completed_rides.request_lead_time.mean(),1),'minutes')"
      ],
      "execution_count": 190,
      "outputs": [
        {
          "output_type": "stream",
          "text": [
            "4.9 minutes\n"
          ],
          "name": "stdout"
        }
      ]
    },
    {
      "cell_type": "code",
      "metadata": {
        "colab": {
          "base_uri": "https://localhost:8080/",
          "height": 375
        },
        "id": "k2lbZiWQ2oYU",
        "outputId": "7780d316-7865-45d0-96cf-1034524696c1"
      },
      "source": [
        "#Include in Data Preparation section\r\n",
        "\r\n",
        "completed_rides.describe().transpose().round(1)"
      ],
      "execution_count": 191,
      "outputs": [
        {
          "output_type": "execute_result",
          "data": {
            "text/html": [
              "<div>\n",
              "<style scoped>\n",
              "    .dataframe tbody tr th:only-of-type {\n",
              "        vertical-align: middle;\n",
              "    }\n",
              "\n",
              "    .dataframe tbody tr th {\n",
              "        vertical-align: top;\n",
              "    }\n",
              "\n",
              "    .dataframe thead th {\n",
              "        text-align: right;\n",
              "    }\n",
              "</style>\n",
              "<table border=\"1\" class=\"dataframe\">\n",
              "  <thead>\n",
              "    <tr style=\"text-align: right;\">\n",
              "      <th></th>\n",
              "      <th>count</th>\n",
              "      <th>mean</th>\n",
              "      <th>std</th>\n",
              "      <th>min</th>\n",
              "      <th>25%</th>\n",
              "      <th>50%</th>\n",
              "      <th>75%</th>\n",
              "      <th>max</th>\n",
              "    </tr>\n",
              "  </thead>\n",
              "  <tbody>\n",
              "    <tr>\n",
              "      <th>city</th>\n",
              "      <td>444.0</td>\n",
              "      <td>468.4</td>\n",
              "      <td>105.3</td>\n",
              "      <td>296.0</td>\n",
              "      <td>458.0</td>\n",
              "      <td>458.0</td>\n",
              "      <td>458.0</td>\n",
              "      <td>1449.0</td>\n",
              "    </tr>\n",
              "    <tr>\n",
              "      <th>begin_lat</th>\n",
              "      <td>444.0</td>\n",
              "      <td>-23.6</td>\n",
              "      <td>0.1</td>\n",
              "      <td>-24.0</td>\n",
              "      <td>-23.6</td>\n",
              "      <td>-23.6</td>\n",
              "      <td>-23.5</td>\n",
              "      <td>-22.9</td>\n",
              "    </tr>\n",
              "    <tr>\n",
              "      <th>begin_lng</th>\n",
              "      <td>444.0</td>\n",
              "      <td>-46.6</td>\n",
              "      <td>0.3</td>\n",
              "      <td>-46.8</td>\n",
              "      <td>-46.7</td>\n",
              "      <td>-46.6</td>\n",
              "      <td>-46.6</td>\n",
              "      <td>-43.1</td>\n",
              "    </tr>\n",
              "    <tr>\n",
              "      <th>dropoff_lat</th>\n",
              "      <td>444.0</td>\n",
              "      <td>-23.6</td>\n",
              "      <td>0.1</td>\n",
              "      <td>-24.0</td>\n",
              "      <td>-23.6</td>\n",
              "      <td>-23.6</td>\n",
              "      <td>-23.5</td>\n",
              "      <td>-22.9</td>\n",
              "    </tr>\n",
              "    <tr>\n",
              "      <th>dropoff_lng</th>\n",
              "      <td>444.0</td>\n",
              "      <td>-46.6</td>\n",
              "      <td>0.3</td>\n",
              "      <td>-46.8</td>\n",
              "      <td>-46.7</td>\n",
              "      <td>-46.6</td>\n",
              "      <td>-46.6</td>\n",
              "      <td>-43.1</td>\n",
              "    </tr>\n",
              "    <tr>\n",
              "      <th>distance_miles</th>\n",
              "      <td>444.0</td>\n",
              "      <td>5.0</td>\n",
              "      <td>3.6</td>\n",
              "      <td>0.2</td>\n",
              "      <td>1.5</td>\n",
              "      <td>5.3</td>\n",
              "      <td>6.3</td>\n",
              "      <td>19.7</td>\n",
              "    </tr>\n",
              "    <tr>\n",
              "      <th>fare_amount</th>\n",
              "      <td>444.0</td>\n",
              "      <td>19.2</td>\n",
              "      <td>9.9</td>\n",
              "      <td>0.0</td>\n",
              "      <td>8.5</td>\n",
              "      <td>19.8</td>\n",
              "      <td>25.4</td>\n",
              "      <td>58.8</td>\n",
              "    </tr>\n",
              "    <tr>\n",
              "      <th>distance_km</th>\n",
              "      <td>444.0</td>\n",
              "      <td>8.1</td>\n",
              "      <td>5.8</td>\n",
              "      <td>0.2</td>\n",
              "      <td>2.4</td>\n",
              "      <td>8.6</td>\n",
              "      <td>10.1</td>\n",
              "      <td>31.8</td>\n",
              "    </tr>\n",
              "    <tr>\n",
              "      <th>amount_km</th>\n",
              "      <td>444.0</td>\n",
              "      <td>3.1</td>\n",
              "      <td>2.5</td>\n",
              "      <td>0.0</td>\n",
              "      <td>2.2</td>\n",
              "      <td>2.6</td>\n",
              "      <td>3.7</td>\n",
              "      <td>47.0</td>\n",
              "    </tr>\n",
              "    <tr>\n",
              "      <th>request_lead_time</th>\n",
              "      <td>444.0</td>\n",
              "      <td>4.9</td>\n",
              "      <td>3.0</td>\n",
              "      <td>0.5</td>\n",
              "      <td>3.0</td>\n",
              "      <td>4.3</td>\n",
              "      <td>6.1</td>\n",
              "      <td>26.6</td>\n",
              "    </tr>\n",
              "    <tr>\n",
              "      <th>trip_duration</th>\n",
              "      <td>444.0</td>\n",
              "      <td>21.4</td>\n",
              "      <td>13.8</td>\n",
              "      <td>3.1</td>\n",
              "      <td>8.6</td>\n",
              "      <td>21.0</td>\n",
              "      <td>27.4</td>\n",
              "      <td>91.8</td>\n",
              "    </tr>\n",
              "  </tbody>\n",
              "</table>\n",
              "</div>"
            ],
            "text/plain": [
              "                   count   mean    std    min    25%    50%    75%     max\n",
              "city               444.0  468.4  105.3  296.0  458.0  458.0  458.0  1449.0\n",
              "begin_lat          444.0  -23.6    0.1  -24.0  -23.6  -23.6  -23.5   -22.9\n",
              "begin_lng          444.0  -46.6    0.3  -46.8  -46.7  -46.6  -46.6   -43.1\n",
              "dropoff_lat        444.0  -23.6    0.1  -24.0  -23.6  -23.6  -23.5   -22.9\n",
              "dropoff_lng        444.0  -46.6    0.3  -46.8  -46.7  -46.6  -46.6   -43.1\n",
              "distance_miles     444.0    5.0    3.6    0.2    1.5    5.3    6.3    19.7\n",
              "fare_amount        444.0   19.2    9.9    0.0    8.5   19.8   25.4    58.8\n",
              "distance_km        444.0    8.1    5.8    0.2    2.4    8.6   10.1    31.8\n",
              "amount_km          444.0    3.1    2.5    0.0    2.2    2.6    3.7    47.0\n",
              "request_lead_time  444.0    4.9    3.0    0.5    3.0    4.3    6.1    26.6\n",
              "trip_duration      444.0   21.4   13.8    3.1    8.6   21.0   27.4    91.8"
            ]
          },
          "metadata": {
            "tags": []
          },
          "execution_count": 191
        }
      ]
    },
    {
      "cell_type": "code",
      "metadata": {
        "id": "RDukZQ5yTEJH"
      },
      "source": [
        ""
      ],
      "execution_count": null,
      "outputs": []
    }
  ]
}