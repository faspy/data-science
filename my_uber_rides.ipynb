{
  "nbformat": 4,
  "nbformat_minor": 0,
  "metadata": {
    "colab": {
      "name": "my_uber_rides.ipynb",
      "provenance": [],
      "collapsed_sections": [
        "hpbgYxDf0myx",
        "Dvi_44-nH4uV",
        "lgZl1mhR7G6R",
        "hbTPzZ2AY2DJ",
        "QSI5yRNZKbNM",
        "ls6vRfYJQmdh",
        "YSSXBsEfc2WG",
        "II9jXMiyeDhV",
        "gcUZ0H_GaRO9",
        "tPzS6QKNc42V",
        "lIEvZnnmdV3z",
        "ausPKy-bdaJ6",
        "j9j6AXb9ddRK",
        "nD_nhL5xdgPf",
        "o3Wv_tZNdjvl",
        "x6CAq0oAdpha",
        "RBFP7pABzde2"
      ],
      "include_colab_link": true
    },
    "kernelspec": {
      "name": "python3",
      "display_name": "Python 3"
    }
  },
  "cells": [
    {
      "cell_type": "markdown",
      "metadata": {
        "id": "view-in-github",
        "colab_type": "text"
      },
      "source": [
        "<a href=\"https://colab.research.google.com/github/faspy/data_science_projects/blob/gh-pages/my_uber_rides.ipynb\" target=\"_parent\"><img src=\"https://colab.research.google.com/assets/colab-badge.svg\" alt=\"Open In Colab\"/></a>"
      ]
    },
    {
      "cell_type": "markdown",
      "metadata": {
        "id": "6Ddlo6K7cwYA"
      },
      "source": [
        "#**Exploratory Data Analysis (EDA):** *A pratical approach using YOUR Uber rides dataset*\r\n",
        "\r\n",
        "Exploring data is certainly one of the most important stages on Data Science process. Despite its simplicity, it could be a powerful tool to put you ahead on data and business context, as well as to determine crutial treatments before creating machine learning models.\r\n",
        "\r\n",
        "To turn things a little bit more interesting, I've decided to have some fun with my personal Uber rides data and see which insights I could extract.\r\n",
        "\r\n",
        "In this post, I will guide you through the following steps:\r\n",
        "1. Business Problem Definition\r\n",
        "2. Data Discovery\r\n",
        "3. Data Preparation\r\n",
        "4. Data Analysis & Storytelling\r\n",
        "\r\n",
        "***Note: Data Preparation is usually a stage that requires lots of work around data formatting, cleansing and manipulation, but making your data CONSISTENT is surely a success factor for your analysis and future modeling.***\r\n",
        "\r\n",
        "\r\n",
        "Let's check it out!"
      ]
    },
    {
      "cell_type": "markdown",
      "metadata": {
        "id": "_26wU6Oa7zgF"
      },
      "source": [
        "<img alt=\"Uber banner\" width=\"60%\" height=\"10%\" src=\"https://raw.githubusercontent.com/faspy/images/main/uber_banner.jpg\">"
      ]
    },
    {
      "cell_type": "markdown",
      "metadata": {
        "id": "hpbgYxDf0myx"
      },
      "source": [
        "###**Requesting and downloading your personal dataset**\r\n",
        "\r\n",
        "Uber's data download feature provides you in-depth information about your rides. You can request access to your data through the following link:\r\n",
        "https://myprivacy.uber.com/privacy/exploreyourdata/download\r\n",
        "\r\n",
        "After your request is done, an email with the download link will be sent to you (usually in the same day).\r\n",
        "\r\n",
        "*For security purposes, your data is only available **during 7 days**.*"
      ]
    },
    {
      "cell_type": "markdown",
      "metadata": {
        "id": "Dvi_44-nH4uV"
      },
      "source": [
        "##<font color='blue'>**1. Business Problem Definition:** First things, first!</font>"
      ]
    },
    {
      "cell_type": "markdown",
      "metadata": {
        "id": "WEu4XErbe4C4"
      },
      "source": [
        "\r\n",
        "Before starting manipulating and analysing data, the first thing you should do is to think about **THE PURPOSE**. What mean is that you should think about the reasons why you are up to conduct any analysis. If you are uncertain about this, simply starting formulating questions regarding your subject like **What? When? Where? Who? Which? How? How many? How much?**.\r\n",
        "\r\n",
        "Depending on how many data and features you have, analysis could go to the infinite and beyond. So that's why (after thinking process) I decided to focus on the following questions:\r\n",
        "\r\n",
        "     a. How many trips I did over the years?\r\n",
        "     b. How many trips were Completed and Canceled?\r\n",
        "     c. How many trips were not recovered by Uber after cancelling? (Churn Out?)\r\n",
        "     d. Where most of the dropoffs ocurred?\r\n",
        "     e. What product type is usually chosen?\r\n",
        "     f. How much is the average fare and how much is payed by km ridden?\r\n",
        "     g. Which months and weekdays have the highest average fares?\r\n",
        "     h. Which was the longest/shortest and more expensive/cheaper ride?\r\n",
        "     i. What is the average lead time before begining a trip?\r\n",
        "     j. What is the average time spent on trips?"
      ]
    },
    {
      "cell_type": "markdown",
      "metadata": {
        "id": "lgZl1mhR7G6R"
      },
      "source": [
        "##<font color='blue'>**2. Data Discovery**</font>"
      ]
    },
    {
      "cell_type": "markdown",
      "metadata": {
        "id": "hUxSDR2pkGC-"
      },
      "source": [
        "Importing libraries and dataset."
      ]
    },
    {
      "cell_type": "code",
      "metadata": {
        "id": "K_nLo24KkB9R"
      },
      "source": [
        "# Libraries for handling numeric computation and dataframes\r\n",
        "import pandas as pd\r\n",
        "import numpy as np\r\n",
        "\r\n",
        "# Libraries for statistical plotting\r\n",
        "import matplotlib.pyplot as plt\r\n",
        "import seaborn as sns\r\n",
        "%matplotlib inline\r\n",
        "\r\n",
        "from sklearn.preprocessing import MinMaxScaler\r\n",
        "\r\n",
        "# My personal data storaged in my Github repository\r\n",
        "rides = pd.read_csv('https://raw.githubusercontent.com/faspy/raw_data/main/trips_data.csv')"
      ],
      "execution_count": 158,
      "outputs": []
    },
    {
      "cell_type": "markdown",
      "metadata": {
        "id": "1dn-a9dpDiEc"
      },
      "source": [
        "Checking basic dataset information (data types and dimensions)"
      ]
    },
    {
      "cell_type": "code",
      "metadata": {
        "colab": {
          "base_uri": "https://localhost:8080/"
        },
        "id": "M4tOk4R82OXH",
        "outputId": "299b384a-7c76-47c8-a29b-e7a693be2d65"
      },
      "source": [
        "rides.info()"
      ],
      "execution_count": 159,
      "outputs": [
        {
          "output_type": "stream",
          "text": [
            "<class 'pandas.core.frame.DataFrame'>\n",
            "RangeIndex: 554 entries, 0 to 553\n",
            "Data columns (total 13 columns):\n",
            " #   Column                Non-Null Count  Dtype  \n",
            "---  ------                --------------  -----  \n",
            " 0   City                  554 non-null    int64  \n",
            " 1   Product Type          551 non-null    object \n",
            " 2   Trip or Order Status  554 non-null    object \n",
            " 3   Request Time          554 non-null    object \n",
            " 4   Begin Trip Time       554 non-null    object \n",
            " 5   Begin Trip Lat        525 non-null    float64\n",
            " 6   Begin Trip Lng        525 non-null    float64\n",
            " 7   Dropoff Time          554 non-null    object \n",
            " 8   Dropoff Lat           525 non-null    float64\n",
            " 9   Dropoff Lng           525 non-null    float64\n",
            " 10  Distance (miles)      554 non-null    float64\n",
            " 11  Fare Amount           554 non-null    float64\n",
            " 12  Fare Currency         551 non-null    object \n",
            "dtypes: float64(6), int64(1), object(6)\n",
            "memory usage: 56.4+ KB\n"
          ],
          "name": "stdout"
        }
      ]
    },
    {
      "cell_type": "markdown",
      "metadata": {
        "id": "sduoNJwQ9u1R"
      },
      "source": [
        "***.rename( )*** method allows you to rename axis labels (indexes and columns). In this case I decided to normalize column names to clean up coding, as long you can columns by typing **```<data_frame>.<column>```**."
      ]
    },
    {
      "cell_type": "code",
      "metadata": {
        "id": "rSe6HEjG3hIF"
      },
      "source": [
        "rides.rename(columns={'Trip or Order Status': 'status', 'Request Time': 'request_time','Product Type':'product_type','Begin Trip Time':'begin_time',\r\n",
        "                      'Begin Trip Lat':'begin_lat','Begin Trip Lng':'begin_lng','Dropoff Time':'dropoff_time','Dropoff Lat':'dropoff_lat',\r\n",
        "                      'Dropoff Lng':'dropoff_lng','Distance (miles)':'distance_miles','Fare Amount':'fare_amount',\r\n",
        "                      'Fare Currency':'fare_currency','City':'city'}, inplace=True)"
      ],
      "execution_count": 160,
      "outputs": []
    },
    {
      "cell_type": "markdown",
      "metadata": {
        "id": "HABa5NgLCbrF"
      },
      "source": [
        "Use ***.head( )*** method to gain more sensibility around data formatting and understand the overall structure of the dataset values."
      ]
    },
    {
      "cell_type": "code",
      "metadata": {
        "colab": {
          "base_uri": "https://localhost:8080/",
          "height": 197
        },
        "id": "h9GA5z8FdJA3",
        "outputId": "566a8353-6621-49de-e19c-58f334cd5425"
      },
      "source": [
        "rides.head()"
      ],
      "execution_count": 161,
      "outputs": [
        {
          "output_type": "execute_result",
          "data": {
            "text/html": [
              "<div>\n",
              "<style scoped>\n",
              "    .dataframe tbody tr th:only-of-type {\n",
              "        vertical-align: middle;\n",
              "    }\n",
              "\n",
              "    .dataframe tbody tr th {\n",
              "        vertical-align: top;\n",
              "    }\n",
              "\n",
              "    .dataframe thead th {\n",
              "        text-align: right;\n",
              "    }\n",
              "</style>\n",
              "<table border=\"1\" class=\"dataframe\">\n",
              "  <thead>\n",
              "    <tr style=\"text-align: right;\">\n",
              "      <th></th>\n",
              "      <th>city</th>\n",
              "      <th>product_type</th>\n",
              "      <th>status</th>\n",
              "      <th>request_time</th>\n",
              "      <th>begin_time</th>\n",
              "      <th>begin_lat</th>\n",
              "      <th>begin_lng</th>\n",
              "      <th>dropoff_time</th>\n",
              "      <th>dropoff_lat</th>\n",
              "      <th>dropoff_lng</th>\n",
              "      <th>distance_miles</th>\n",
              "      <th>fare_amount</th>\n",
              "      <th>fare_currency</th>\n",
              "    </tr>\n",
              "  </thead>\n",
              "  <tbody>\n",
              "    <tr>\n",
              "      <th>0</th>\n",
              "      <td>458</td>\n",
              "      <td>Black</td>\n",
              "      <td>COMPLETED</td>\n",
              "      <td>2021-01-13 22:06:46 +0000 UTC</td>\n",
              "      <td>2021-01-13 22:11:10 +0000 UTC</td>\n",
              "      <td>-23.599752</td>\n",
              "      <td>-46.715954</td>\n",
              "      <td>2021-01-13 22:29:13 +0000 UTC</td>\n",
              "      <td>-23.559359</td>\n",
              "      <td>-46.666542</td>\n",
              "      <td>4.84</td>\n",
              "      <td>29.63</td>\n",
              "      <td>BRL</td>\n",
              "    </tr>\n",
              "    <tr>\n",
              "      <th>1</th>\n",
              "      <td>458</td>\n",
              "      <td>VIP</td>\n",
              "      <td>COMPLETED</td>\n",
              "      <td>2021-01-13 20:21:05 +0000 UTC</td>\n",
              "      <td>2021-01-13 20:27:29 +0000 UTC</td>\n",
              "      <td>-23.559298</td>\n",
              "      <td>-46.666454</td>\n",
              "      <td>2021-01-13 20:54:50 +0000 UTC</td>\n",
              "      <td>-23.599585</td>\n",
              "      <td>-46.715717</td>\n",
              "      <td>5.31</td>\n",
              "      <td>20.86</td>\n",
              "      <td>BRL</td>\n",
              "    </tr>\n",
              "    <tr>\n",
              "      <th>2</th>\n",
              "      <td>458</td>\n",
              "      <td>VIP</td>\n",
              "      <td>COMPLETED</td>\n",
              "      <td>2021-01-03 00:23:22 +0000 UTC</td>\n",
              "      <td>2021-01-03 00:33:00 +0000 UTC</td>\n",
              "      <td>-23.626593</td>\n",
              "      <td>-46.659410</td>\n",
              "      <td>2021-01-03 00:50:56 +0000 UTC</td>\n",
              "      <td>-23.559273</td>\n",
              "      <td>-46.666595</td>\n",
              "      <td>5.90</td>\n",
              "      <td>34.23</td>\n",
              "      <td>BRL</td>\n",
              "    </tr>\n",
              "    <tr>\n",
              "      <th>3</th>\n",
              "      <td>458</td>\n",
              "      <td>VIP</td>\n",
              "      <td>COMPLETED</td>\n",
              "      <td>2020-12-11 23:16:33 +0000 UTC</td>\n",
              "      <td>2020-12-11 23:27:32 +0000 UTC</td>\n",
              "      <td>-23.559410</td>\n",
              "      <td>-46.666435</td>\n",
              "      <td>2020-12-12 00:32:47 +0000 UTC</td>\n",
              "      <td>-23.425755</td>\n",
              "      <td>-46.481190</td>\n",
              "      <td>19.74</td>\n",
              "      <td>58.77</td>\n",
              "      <td>BRL</td>\n",
              "    </tr>\n",
              "    <tr>\n",
              "      <th>4</th>\n",
              "      <td>458</td>\n",
              "      <td>VIP</td>\n",
              "      <td>COMPLETED</td>\n",
              "      <td>2020-12-11 00:35:46 +0000 UTC</td>\n",
              "      <td>2020-12-11 00:46:46 +0000 UTC</td>\n",
              "      <td>-23.584846</td>\n",
              "      <td>-46.663590</td>\n",
              "      <td>2020-12-11 00:57:57 +0000 UTC</td>\n",
              "      <td>-23.559261</td>\n",
              "      <td>-46.666510</td>\n",
              "      <td>2.54</td>\n",
              "      <td>12.63</td>\n",
              "      <td>BRL</td>\n",
              "    </tr>\n",
              "  </tbody>\n",
              "</table>\n",
              "</div>"
            ],
            "text/plain": [
              "   city product_type     status  ... distance_miles fare_amount  fare_currency\n",
              "0   458        Black  COMPLETED  ...           4.84       29.63            BRL\n",
              "1   458          VIP  COMPLETED  ...           5.31       20.86            BRL\n",
              "2   458          VIP  COMPLETED  ...           5.90       34.23            BRL\n",
              "3   458          VIP  COMPLETED  ...          19.74       58.77            BRL\n",
              "4   458          VIP  COMPLETED  ...           2.54       12.63            BRL\n",
              "\n",
              "[5 rows x 13 columns]"
            ]
          },
          "metadata": {
            "tags": []
          },
          "execution_count": 161
        }
      ]
    },
    {
      "cell_type": "markdown",
      "metadata": {
        "id": "O2L8t9S6Okh4"
      },
      "source": [
        "Taking a look on the **continuous variables**, we notice the presence of some outliers. However **these outliers do not seem to reflect any abnormal value** (e.g. fare_amount = 1000 BRL), which may let us a little bit more comfortable.\r\n",
        "\r\n",
        "*P.S. In case abnormal values are found, some treatment should be probably considered (e.g. outliers replacement/removal).*"
      ]
    },
    {
      "cell_type": "code",
      "metadata": {
        "colab": {
          "base_uri": "https://localhost:8080/",
          "height": 318
        },
        "id": "PL8Pp4ue_Ule",
        "outputId": "9c3118d3-d30d-4895-f7bd-407b44269641"
      },
      "source": [
        "#creating an additional dataframe without Uber EATS records (out of analysis scope)\r\n",
        "df1 = rides[rides.product_type!='UberEATS Marketplace'][['distance_miles','fare_amount']]\r\n",
        "\r\n",
        "print(df1.describe().transpose().round(1));\r\n",
        "df1.boxplot(grid=False);"
      ],
      "execution_count": 162,
      "outputs": [
        {
          "output_type": "stream",
          "text": [
            "                count  mean   std  min  25%   50%   75%   max\n",
            "distance_miles  544.0   4.1   3.8  0.0  1.2   3.4   6.0  19.7\n",
            "fare_amount     544.0  15.8  11.6  0.0  7.8  14.4  24.3  58.8\n"
          ],
          "name": "stdout"
        },
        {
          "output_type": "display_data",
          "data": {
            "image/png": "[encoded data removed]",
            "text/plain": [
              "<Figure size 432x288 with 1 Axes>"
            ]
          },
          "metadata": {
            "tags": [],
            "needs_background": "light"
          }
        }
      ]
    },
    {
      "cell_type": "markdown",
      "metadata": {
        "id": "zeiT_FqDidjT"
      },
      "source": [
        "The charts below show a different perspective of the variables distribution. In this case, we see that both variables present an **assimetric distribution (positive)**. For distance we notice that the higher frequency values are shorter distances, and for fare amount we have the same behaviour. \r\n",
        "\r\n",
        "Additionally, we also notice that the **standard deviation are high**, taking 'means' as our reference. This means that **values in both variables are very dispersal**."
      ]
    },
    {
      "cell_type": "code",
      "metadata": {
        "colab": {
          "base_uri": "https://localhost:8080/",
          "height": 226
        },
        "id": "J2rLRO2WiYVp",
        "outputId": "2a1d79a0-653b-414d-a8c4-9183b9e7075a"
      },
      "source": [
        "print(df1.describe().transpose().round(1));\r\n",
        "df1.hist(grid=False, figsize=(10,2));"
      ],
      "execution_count": 163,
      "outputs": [
        {
          "output_type": "stream",
          "text": [
            "                count  mean   std  min  25%   50%   75%   max\n",
            "distance_miles  544.0   4.1   3.8  0.0  1.2   3.4   6.0  19.7\n",
            "fare_amount     544.0  15.8  11.6  0.0  7.8  14.4  24.3  58.8\n"
          ],
          "name": "stdout"
        },
        {
          "output_type": "display_data",
          "data": {
            "image/png": "[encoded data removed]",
            "text/plain": [
              "<Figure size 720x144 with 2 Axes>"
            ]
          },
          "metadata": {
            "tags": [],
            "needs_background": "light"
          }
        }
      ]
    },
    {
      "cell_type": "markdown",
      "metadata": {
        "id": "HEBLSKzLPE8Y"
      },
      "source": [
        "Not surprisingly we have a **strong correlation** between 'fare_amount' and 'distance_miles', inferring that **as much you stay on the ride, higher will the fare be**."
      ]
    },
    {
      "cell_type": "code",
      "metadata": {
        "colab": {
          "base_uri": "https://localhost:8080/",
          "height": 280
        },
        "id": "aahjef7_jjmf",
        "outputId": "199896bb-2cb7-4272-f041-ae6752833cba"
      },
      "source": [
        "sns.scatterplot(x='distance_miles',y='fare_amount',data=df1);"
      ],
      "execution_count": 164,
      "outputs": [
        {
          "output_type": "display_data",
          "data": {
            "image/png": "[encoded data removed]",
            "text/plain": [
              "<Figure size 432x288 with 1 Axes>"
            ]
          },
          "metadata": {
            "tags": [],
            "needs_background": "light"
          }
        }
      ]
    },
    {
      "cell_type": "markdown",
      "metadata": {
        "id": "hbTPzZ2AY2DJ"
      },
      "source": [
        "##**<font color='blue'>3. Data Preparation</font>**"
      ]
    },
    {
      "cell_type": "markdown",
      "metadata": {
        "id": "8_k9HlPzDazo"
      },
      "source": [
        "I decided to remove the column **fare_currency**, since all my trips happened inside a single country (Brazil)."
      ]
    },
    {
      "cell_type": "code",
      "metadata": {
        "id": "lvy85hm0_7cS"
      },
      "source": [
        "rides.pop('fare_currency');"
      ],
      "execution_count": 165,
      "outputs": []
    },
    {
      "cell_type": "markdown",
      "metadata": {
        "id": "rJa1ydO_Fp5d"
      },
      "source": [
        "Now let's check existance of ***missing values***."
      ]
    },
    {
      "cell_type": "code",
      "metadata": {
        "colab": {
          "base_uri": "https://localhost:8080/"
        },
        "id": "7ZGFSUfGrRTE",
        "outputId": "784e5675-fe4a-43ad-ad04-99cfac1d61c9"
      },
      "source": [
        "rides.isnull().sum().sort_values(ascending=False)"
      ],
      "execution_count": 166,
      "outputs": [
        {
          "output_type": "execute_result",
          "data": {
            "text/plain": [
              "dropoff_lng       29\n",
              "dropoff_lat       29\n",
              "begin_lng         29\n",
              "begin_lat         29\n",
              "product_type       3\n",
              "fare_amount        0\n",
              "distance_miles     0\n",
              "dropoff_time       0\n",
              "begin_time         0\n",
              "request_time       0\n",
              "status             0\n",
              "city               0\n",
              "dtype: int64"
            ]
          },
          "metadata": {
            "tags": []
          },
          "execution_count": 166
        }
      ]
    },
    {
      "cell_type": "markdown",
      "metadata": {
        "id": "VKElsSTRyYee"
      },
      "source": [
        "Despite empty Lng and Lat values (29 total), there were found 3 records without ```product_type```. As shown below, these records are insignificant to my dataset, since practically no columns are fulfilled."
      ]
    },
    {
      "cell_type": "code",
      "metadata": {
        "colab": {
          "base_uri": "https://localhost:8080/",
          "height": 137
        },
        "id": "ni6-PxGYy5XN",
        "outputId": "be852be1-8c0f-4a0c-ce69-2c25459b2015"
      },
      "source": [
        "rides[rides.product_type.isnull()]"
      ],
      "execution_count": 167,
      "outputs": [
        {
          "output_type": "execute_result",
          "data": {
            "text/html": [
              "<div>\n",
              "<style scoped>\n",
              "    .dataframe tbody tr th:only-of-type {\n",
              "        vertical-align: middle;\n",
              "    }\n",
              "\n",
              "    .dataframe tbody tr th {\n",
              "        vertical-align: top;\n",
              "    }\n",
              "\n",
              "    .dataframe thead th {\n",
              "        text-align: right;\n",
              "    }\n",
              "</style>\n",
              "<table border=\"1\" class=\"dataframe\">\n",
              "  <thead>\n",
              "    <tr style=\"text-align: right;\">\n",
              "      <th></th>\n",
              "      <th>city</th>\n",
              "      <th>product_type</th>\n",
              "      <th>status</th>\n",
              "      <th>request_time</th>\n",
              "      <th>begin_time</th>\n",
              "      <th>begin_lat</th>\n",
              "      <th>begin_lng</th>\n",
              "      <th>dropoff_time</th>\n",
              "      <th>dropoff_lat</th>\n",
              "      <th>dropoff_lng</th>\n",
              "      <th>distance_miles</th>\n",
              "      <th>fare_amount</th>\n",
              "    </tr>\n",
              "  </thead>\n",
              "  <tbody>\n",
              "    <tr>\n",
              "      <th>281</th>\n",
              "      <td>458</td>\n",
              "      <td>NaN</td>\n",
              "      <td>UNFULFILLED</td>\n",
              "      <td>2018-05-26 18:36:51 +0000 UTC</td>\n",
              "      <td>1970-01-01 00:00:00 +0000 UTC</td>\n",
              "      <td>NaN</td>\n",
              "      <td>NaN</td>\n",
              "      <td>1970-01-01 00:00:00 +0000 UTC</td>\n",
              "      <td>NaN</td>\n",
              "      <td>NaN</td>\n",
              "      <td>0.0</td>\n",
              "      <td>0.0</td>\n",
              "    </tr>\n",
              "    <tr>\n",
              "      <th>362</th>\n",
              "      <td>1449</td>\n",
              "      <td>NaN</td>\n",
              "      <td>UNFULFILLED</td>\n",
              "      <td>2018-02-13 01:59:25 +0000 UTC</td>\n",
              "      <td>1970-01-01 00:00:00 +0000 UTC</td>\n",
              "      <td>NaN</td>\n",
              "      <td>NaN</td>\n",
              "      <td>1970-01-01 00:00:00 +0000 UTC</td>\n",
              "      <td>NaN</td>\n",
              "      <td>NaN</td>\n",
              "      <td>0.0</td>\n",
              "      <td>0.0</td>\n",
              "    </tr>\n",
              "    <tr>\n",
              "      <th>392</th>\n",
              "      <td>1449</td>\n",
              "      <td>NaN</td>\n",
              "      <td>UNFULFILLED</td>\n",
              "      <td>2018-01-01 04:44:10 +0000 UTC</td>\n",
              "      <td>1970-01-01 00:00:00 +0000 UTC</td>\n",
              "      <td>NaN</td>\n",
              "      <td>NaN</td>\n",
              "      <td>1970-01-01 00:00:00 +0000 UTC</td>\n",
              "      <td>NaN</td>\n",
              "      <td>NaN</td>\n",
              "      <td>0.0</td>\n",
              "      <td>0.0</td>\n",
              "    </tr>\n",
              "  </tbody>\n",
              "</table>\n",
              "</div>"
            ],
            "text/plain": [
              "     city product_type       status  ... dropoff_lng distance_miles  fare_amount\n",
              "281   458          NaN  UNFULFILLED  ...         NaN            0.0          0.0\n",
              "362  1449          NaN  UNFULFILLED  ...         NaN            0.0          0.0\n",
              "392  1449          NaN  UNFULFILLED  ...         NaN            0.0          0.0\n",
              "\n",
              "[3 rows x 12 columns]"
            ]
          },
          "metadata": {
            "tags": []
          },
          "execution_count": 167
        }
      ]
    },
    {
      "cell_type": "markdown",
      "metadata": {
        "id": "zLJOJUExWdP5"
      },
      "source": [
        "So now, let's get rid of these 3 records before proceding."
      ]
    },
    {
      "cell_type": "code",
      "metadata": {
        "id": "6FjHhyQx00Gy"
      },
      "source": [
        "rides.dropna(subset = ['product_type'], inplace=True)"
      ],
      "execution_count": 168,
      "outputs": []
    },
    {
      "cell_type": "markdown",
      "metadata": {
        "id": "QSI5yRNZKbNM"
      },
      "source": [
        "##**<font color='blue'>3.1 Data Cleansing**: Categorical features</font>"
      ]
    },
    {
      "cell_type": "markdown",
      "metadata": {
        "id": "Rvb1PZ3YWt1N"
      },
      "source": [
        "While analysing the first categorical column **```<product_type>```**, I could clearly see that some work was necessary, since I could find different values referring to the same category. Then, I **summarized 15 original categories in 5 ones**."
      ]
    },
    {
      "cell_type": "code",
      "metadata": {
        "colab": {
          "base_uri": "https://localhost:8080/"
        },
        "id": "Aa6c4tprdK9w",
        "outputId": "21d1f85f-4dbc-4413-9ace-39dd793a1911"
      },
      "source": [
        "# Checking categories in product_type column\r\n",
        "print(rides.product_type.value_counts())\r\n",
        "\r\n",
        "# Categories reclassification\r\n",
        "product_mapping = {'UberX':'UberX','uberX':'UberX','uberX VIP':'UberX','VIP':'UberX','POOL':'Pool','POOL: MATCHED':'Pool','UberBLACK': 'Black',\r\n",
        "                   'uberx':'UberX','uberPOOL':'Pool','uberPOOL: MATCHED':'Pool','Pool: MATCHED':'Pool'}\r\n",
        "\r\n",
        "# New categories replacement\r\n",
        "rides['product_type'].replace(product_mapping, inplace=True)\r\n",
        "\r\n",
        "# Checking new categories in product_type column\r\n",
        "print(rides.product_type.value_counts())"
      ],
      "execution_count": 169,
      "outputs": [
        {
          "output_type": "stream",
          "text": [
            "UberX                   169\n",
            "uberX                   144\n",
            "uberX VIP                81\n",
            "VIP                      71\n",
            "POOL                     36\n",
            "Pool                     12\n",
            "UberEATS Marketplace     10\n",
            "POOL: MATCHED             8\n",
            "uberPOOL: MATCHED         5\n",
            "uberPOOL                  5\n",
            "Pool: MATCHED             4\n",
            "Black                     3\n",
            "uberx                     1\n",
            "UberBLACK                 1\n",
            "Juntos                    1\n",
            "Name: product_type, dtype: int64\n",
            "UberX                   466\n",
            "Pool                     70\n",
            "UberEATS Marketplace     10\n",
            "Black                     4\n",
            "Juntos                    1\n",
            "Name: product_type, dtype: int64\n"
          ],
          "name": "stdout"
        }
      ]
    },
    {
      "cell_type": "markdown",
      "metadata": {
        "id": "7qXNalc3Jwzr"
      },
      "source": [
        "As the scope of this analysis is only around Uber rides, I removed ***UberEATS*** records from my dataset. "
      ]
    },
    {
      "cell_type": "code",
      "metadata": {
        "id": "R4NGTWtoVY0A"
      },
      "source": [
        "rides = rides[rides.product_type!='UberEATS Marketplace']"
      ],
      "execution_count": 170,
      "outputs": []
    },
    {
      "cell_type": "markdown",
      "metadata": {
        "id": "UybCyNJsOVNg"
      },
      "source": [
        "Our second categorical feature ```<status>``` seems well classified in 3 status, which will not require any kind of treatment."
      ]
    },
    {
      "cell_type": "code",
      "metadata": {
        "colab": {
          "base_uri": "https://localhost:8080/"
        },
        "id": "XVFSlJPtPAJD",
        "outputId": "2e4ea081-8424-4899-deef-e3844f9571c2"
      },
      "source": [
        "rides.status.value_counts()"
      ],
      "execution_count": 171,
      "outputs": [
        {
          "output_type": "execute_result",
          "data": {
            "text/plain": [
              "COMPLETED          444\n",
              "CANCELED            87\n",
              "DRIVER_CANCELED     10\n",
              "Name: status, dtype: int64"
            ]
          },
          "metadata": {
            "tags": []
          },
          "execution_count": 171
        }
      ]
    },
    {
      "cell_type": "markdown",
      "metadata": {
        "id": "ls6vRfYJQmdh"
      },
      "source": [
        "##<font color='blue'>**3.2 Data Transformation:** Handling dates</font>"
      ]
    },
    {
      "cell_type": "markdown",
      "metadata": {
        "id": "XSA4XK3vSXZf"
      },
      "source": [
        "**Dates** usually increase a lot your power of analysis, since you can break it down to different parts and generate insights from different perspectives. As previously shown, our dates features are in fact **object data types**, so we need to **convert them into datetime format**."
      ]
    },
    {
      "cell_type": "code",
      "metadata": {
        "id": "t5sDnyCsjRIY"
      },
      "source": [
        "# Library for manipulating dates and times\r\n",
        "from datetime import datetime\r\n",
        "from datetime import timedelta\r\n",
        "\r\n",
        "# Function to convert features to datetime\r\n",
        "def date_convertion(df, cols):\r\n",
        "\r\n",
        "  for col in cols:\r\n",
        "    df[col] = df[col].apply(lambda x: x.replace(' +0000 UTC', ''))\r\n",
        "    df[col] = pd.to_datetime(df[col])\r\n",
        "    \r\n",
        "  return df\r\n",
        "\r\n",
        "# Applying date_convertion function to date features \r\n",
        "rides = date_convertion(rides, ['request_time', 'begin_time', 'dropoff_time'])"
      ],
      "execution_count": 172,
      "outputs": []
    },
    {
      "cell_type": "markdown",
      "metadata": {
        "id": "fLb7dIudWHIb"
      },
      "source": [
        "Now, let's break down ```<request_time>``` feature into different date parts. I just did that for ```<request_time>```, since I'm assuming that all rides were completed in the same day ***(believe me, I have already checked that! :D )***."
      ]
    },
    {
      "cell_type": "code",
      "metadata": {
        "id": "05InR_YJPd2H"
      },
      "source": [
        "rides['year'] = rides.request_time.map(lambda x: datetime.strftime(x,\"%Y\"))\r\n",
        "rides['month'] = rides.request_time.map(lambda x: datetime.strftime(x,\"%b\"))\r\n",
        "rides['weekday'] = rides.request_time.map(lambda x: datetime.strftime(x,\"%a\"))\r\n",
        "rides['time'] = rides.request_time.map(lambda x: datetime.strftime(x,\"%H:%M\"))"
      ],
      "execution_count": 173,
      "outputs": []
    },
    {
      "cell_type": "markdown",
      "metadata": {
        "id": "YSSXBsEfc2WG"
      },
      "source": [
        "##<font color='blue'>**3.3 Feature Engineering:** Creating new features</font>"
      ]
    },
    {
      "cell_type": "markdown",
      "metadata": {
        "id": "xxsDik38dOIw"
      },
      "source": [
        "Based on ```<fare_amount>``` and ```<distance_miles>``` features I've created a new feature called ```<amount_km>```, which would help us understand **how much is payed by kilometer ridden**."
      ]
    },
    {
      "cell_type": "code",
      "metadata": {
        "id": "nk_xnb9IR9Fz"
      },
      "source": [
        "rides['distance_km'] = round(rides.distance_miles*1.60934,2)\r\n",
        "rides['amount_km'] = round(rides.fare_amount/rides.distance_km,2)"
      ],
      "execution_count": 174,
      "outputs": []
    },
    {
      "cell_type": "markdown",
      "metadata": {
        "id": "VvCaj9rtfyyC"
      },
      "source": [
        "Delta time between ```<request_time>``` and ```<begin_time>``` will let us now **how much time (in minutes) I usually waited for Uber cars to arrive at my destination**. In this case, it was calculated in a minutes base."
      ]
    },
    {
      "cell_type": "code",
      "metadata": {
        "id": "-apIm6KdrWn_"
      },
      "source": [
        "rides['request_lead_time'] = rides.begin_time - rides.request_time\r\n",
        "rides['request_lead_time'] = rides['request_lead_time'].apply(lambda x: round(x.total_seconds()/60,1))"
      ],
      "execution_count": 175,
      "outputs": []
    },
    {
      "cell_type": "markdown",
      "metadata": {
        "id": "KV91zLsRect4"
      },
      "source": [
        "Similarly, delta time between ```<dropoff_time>``` and ```<begin_time>``` will let us now **how much time (in minutes) was spent on each trip**."
      ]
    },
    {
      "cell_type": "code",
      "metadata": {
        "id": "yfvRDPJ2edP4"
      },
      "source": [
        "rides['trip_duration'] = rides.dropoff_time - rides.begin_time\r\n",
        "rides['trip_duration'] = rides['trip_duration'].apply(lambda x: round(x.total_seconds()/60,1))"
      ],
      "execution_count": 176,
      "outputs": []
    },
    {
      "cell_type": "markdown",
      "metadata": {
        "id": "WAuYE7OvhcEY"
      },
      "source": [
        "As features in records with **Canceled** and **Driver_Cancelled status** will not be useful for my analysis, I set them as **null values** to clean up a little bit more my dataset."
      ]
    },
    {
      "cell_type": "code",
      "metadata": {
        "id": "7Fi0Qowq7g3M"
      },
      "source": [
        "rides.loc[(rides.status == 'CANCELED') | (rides.status == 'DRIVER_CANCELED'),'request_lead_time']=np.nan\r\n",
        "rides.loc[(rides.status == 'CANCELED') | (rides.status == 'DRIVER_CANCELED'),'amount_km']=np.nan\r\n",
        "rides.loc[(rides.status == 'CANCELED') | (rides.status == 'DRIVER_CANCELED'),['begin_time','dropoff_time']]= np.nan"
      ],
      "execution_count": 177,
      "outputs": []
    },
    {
      "cell_type": "markdown",
      "metadata": {
        "id": "II9jXMiyeDhV"
      },
      "source": [
        "##<font color='blue'>**4. Data Analysis & Storytelling:** It's show time!</font>"
      ]
    },
    {
      "cell_type": "markdown",
      "metadata": {
        "id": "ZaskupBSiwmT"
      },
      "source": [
        "**RECOMMENDATION:** Do not start your analysis without completing the Business Problem Definition, since it determines your analysis' focus and quality. Besides that, this process will help you to think about new possibilities/questions while trying to answer the previous ones set. "
      ]
    },
    {
      "cell_type": "markdown",
      "metadata": {
        "id": "z1zdmTdEheiZ"
      },
      "source": [
        "**NOTE:** In order to organize better my analysis, I will create an additional dataframe, **removing all trips with status ```CANCELED``` and ```DRIVER_CANCELED```**, since they should be disconsider in some questions."
      ]
    },
    {
      "cell_type": "code",
      "metadata": {
        "id": "1-kM99_liVht"
      },
      "source": [
        "completed_rides = rides[(rides.status!='CANCELED')&(rides.status!='DRIVER_CANCELED')] "
      ],
      "execution_count": 178,
      "outputs": []
    },
    {
      "cell_type": "markdown",
      "metadata": {
        "id": "gcUZ0H_GaRO9"
      },
      "source": [
        "###**How many trips I did over the years?**\r\n",
        "\r\n",
        "A total of **444 trips** were completed from Apr'16 to Jan'21. If we disconsider 2016 and 2021 (not full years), we can clearly see that from **2017 to 2019 the average rides per year is 124**, and that there is a **huge drop from 2019 to 2020 (-51%)**. This is easily explained by the COVID outbreak.\r\n",
        "\r\n",
        "*Now, imagine if we extrapolate this result to all Uber users...*"
      ]
    },
    {
      "cell_type": "code",
      "metadata": {
        "colab": {
          "base_uri": "https://localhost:8080/",
          "height": 421
        },
        "id": "8JfR6zeaf1n0",
        "outputId": "05a5572e-8e7f-4d66-beca-0719e6592bb0"
      },
      "source": [
        "print('Total trips: ', completed_rides.status.count())\r\n",
        "print(completed_rides.year.value_counts().sort_index(ascending=True))\r\n",
        "sns.countplot(data=completed_rides, x='year',order=['2016','2017','2018','2019','2020','2021'], palette='pastel');"
      ],
      "execution_count": 179,
      "outputs": [
        {
          "output_type": "stream",
          "text": [
            "Total trips:  444\n",
            "2016     17\n",
            "2017    120\n",
            "2018    146\n",
            "2019    106\n",
            "2020     52\n",
            "2021      3\n",
            "Name: year, dtype: int64\n"
          ],
          "name": "stdout"
        },
        {
          "output_type": "display_data",
          "data": {
            "image/png": "[encoded data removed]",
            "text/plain": [
              "<Figure size 432x288 with 1 Axes>"
            ]
          },
          "metadata": {
            "tags": [],
            "needs_background": "light"
          }
        }
      ]
    },
    {
      "cell_type": "markdown",
      "metadata": {
        "id": "tPzS6QKNc42V"
      },
      "source": [
        "###**How many trips were completed or canceled?**\r\n",
        "\r\n"
      ]
    },
    {
      "cell_type": "markdown",
      "metadata": {
        "id": "Jfpq7KE4cocP"
      },
      "source": [
        "Looking at the stacked bars below, we can see that **excluding 2015 and 2021**, 2020 has the highest cancelation ratem. This could be an alarming indicator, considering the drastical impacts caused to the businesses after Covid outbreak. In overall, **cancelation rate was 17.9%** (considering RIDERS and DRIVERS cancelations)."
      ]
    },
    {
      "cell_type": "code",
      "metadata": {
        "colab": {
          "base_uri": "https://localhost:8080/",
          "height": 645
        },
        "id": "lWXrW6JFg4QY",
        "outputId": "d418d9dc-7940-46fa-a3a2-2384661705b6"
      },
      "source": [
        "print('Total trips: ', rides.status.count())\r\n",
        "print(round(rides.status.value_counts()/rides.status.size*100,1))\r\n",
        "sns.countplot(data=rides, x='year', order=['2015','2016','2017','2018','2019','2020','2021'], hue='status', palette='coolwarm');\r\n",
        "\r\n",
        "rides.groupby(by=['year'])['status'].value_counts(normalize=True).unstack('status').plot.bar(stacked=True);"
      ],
      "execution_count": 185,
      "outputs": [
        {
          "output_type": "stream",
          "text": [
            "Total trips:  541\n",
            "COMPLETED          82.1\n",
            "CANCELED           16.1\n",
            "DRIVER_CANCELED     1.8\n",
            "Name: status, dtype: float64\n"
          ],
          "name": "stdout"
        },
        {
          "output_type": "display_data",
          "data": {
            "image/png": "[encoded data removed]",
            "text/plain": [
              "<Figure size 432x288 with 1 Axes>"
            ]
          },
          "metadata": {
            "tags": [],
            "needs_background": "light"
          }
        },
        {
          "output_type": "display_data",
          "data": {
            "image/png": "[encoded data removed]",
            "text/plain": [
              "<Figure size 432x288 with 1 Axes>"
            ]
          },
          "metadata": {
            "tags": [],
            "needs_background": "light"
          }
        }
      ]
    },
    {
      "cell_type": "markdown",
      "metadata": {
        "id": "lIEvZnnmdV3z"
      },
      "source": [
        "###**Where most of the dropoffs ocurred?**\r\n",
        "\r\n",
        "The following heatmap dynamically shows the most frequented areas throughout different hues and intensities. This could be a valuable information for Uber to adjust prices and optimize demand in certain regions, also combining time space data to track users behaviours."
      ]
    },
    {
      "cell_type": "code",
      "metadata": {
        "id": "I2F-PzI9Cfc6"
      },
      "source": [
        "import folium\r\n",
        "from folium import plugins\r\n",
        "\r\n",
        "coord=[]\r\n",
        "for lat,lng in zip(completed_rides.dropoff_lat.values,completed_rides.dropoff_lng.values):\r\n",
        "  coord.append([lat,lng])\r\n",
        "\r\n",
        "map = folium.Map(\r\n",
        "    location=[-23.5489,-46.6388],\r\n",
        "    tiles='Stamen Terrain',\r\n",
        "    zoom_start=7,\r\n",
        "    width='80%', \r\n",
        "    height='50%',\r\n",
        "    control_scale=True)\r\n",
        "\r\n",
        "map.add_child(plugins.HeatMap(coord))\r\n",
        "        \r\n",
        "map"
      ],
      "execution_count": null,
      "outputs": []
    },
    {
      "cell_type": "markdown",
      "metadata": {
        "id": "ausPKy-bdaJ6"
      },
      "source": [
        "###**What product type is usually chosen?**\r\n",
        "\r\n",
        "**UberX** is far the prefered product type with a frequency of **90.3%**. So I could say I am the type of user which usually looks for **affordable prices**."
      ]
    },
    {
      "cell_type": "code",
      "metadata": {
        "id": "OKg7fQp-63X9"
      },
      "source": [
        "# Creating a serie with product types count\r\n",
        "pt_rides = pd.Series(completed_rides.product_type.value_counts().sort_index(ascending=False))\r\n",
        "# Transforming serie in dataframe\r\n",
        "df = pd.DataFrame(pt_rides)\r\n",
        "# Including new column with trips portion\r\n",
        "df['%'] = (completed_rides.product_type.value_counts().sort_index(ascending=False)/completed_rides.product_type.size*100).round(1)\r\n",
        "#Renaming columns labels\r\n",
        "df.rename(columns={'product_type':'Total Rides'}, inplace=True)\r\n",
        "print(df)\r\n",
        "# Plotting product types count\r\n",
        "completed_rides['product_type'].value_counts().plot(kind='bar');"
      ],
      "execution_count": null,
      "outputs": []
    },
    {
      "cell_type": "markdown",
      "metadata": {
        "id": "j9j6AXb9ddRK"
      },
      "source": [
        "###**How much is the average fare and how much is payed by km ridden?**\r\n",
        "Considering all trips, the average amount spent by trip is **19.2 BRL**, ridding in approx. **8.1 km**. So, if we do a quick simulation on **how much I would spend in a year** to do daily round trips we would have: ```365 days * 2 trips * 19.2 BRL/fare = 14,016 BRL/year```"
      ]
    },
    {
      "cell_type": "code",
      "metadata": {
        "id": "4GOswE2F63yF"
      },
      "source": [
        "print('Avg. fare:', round(completed_rides.fare_amount.mean(),1),'BRL')\r\n",
        "print('Avg. distance:',round(completed_rides.distance_km.mean(),1),'km')\r\n",
        "print('Avg. fare/km:',round(completed_rides.fare_amount.sum()/completed_rides.distance_km.sum(),1),'BRL/km')\r\n",
        "print('Avg. time spent on trips:',round(completed_rides.trip_duration.mean(),1),'minutes')\r\n",
        "print('')\r\n",
        "print('Total fare amount:', round(completed_rides.fare_amount.sum(),1),'BRL')\r\n",
        "print('Total distance:',round(completed_rides.distance_km.sum(),1),'km')\r\n",
        "print('Total time spent on trips:',round(completed_rides.trip_duration.sum()/60,1),'hours')"
      ],
      "execution_count": null,
      "outputs": []
    },
    {
      "cell_type": "markdown",
      "metadata": {
        "id": "nD_nhL5xdgPf"
      },
      "source": [
        "###**Which weekdays have the highest average fares?**\r\n",
        "According to the chart below, we can see that **Fridays** and **Sundays** were (in average) the **most expensive weekdays**, however we clearly noticed that **Sunday has the higher price elasticity**, described by black line. This interesting fact, could led us to infer that users look for **more convenience on Sundays**, as well as be the day with **higher profitability for Uber and its drivers**."
      ]
    },
    {
      "cell_type": "code",
      "metadata": {
        "id": "8w0Ebuzgjv1Y"
      },
      "source": [
        "table= completed_rides.pivot_table(values='amount_km',columns='weekday',aggfunc='mean', index='year').round(1)\r\n",
        "column_order = ['Mon','Tue','Wed','Thu','Fri','Sat','Sun']\r\n",
        "table = table.reindex(column_order, axis=1)\r\n",
        "table"
      ],
      "execution_count": null,
      "outputs": []
    },
    {
      "cell_type": "code",
      "metadata": {
        "id": "JRrDCDSepR7Y"
      },
      "source": [
        "sns.catplot(x=\"weekday\", y='amount_km', data=completed_rides, kind='bar', height=4, aspect=3, \r\n",
        "            order=['Mon','Tue','Wed','Thu','Fri','Sat','Sun'],palette='magma');"
      ],
      "execution_count": null,
      "outputs": []
    },
    {
      "cell_type": "markdown",
      "metadata": {
        "id": "o3Wv_tZNdjvl"
      },
      "source": [
        "###**Which was the longest/shortest and more expensive/cheaper ride?**\r\n"
      ]
    },
    {
      "cell_type": "markdown",
      "metadata": {
        "id": "KH0W_NdP2sAv"
      },
      "source": [
        "The table below show records with the **longest (31.77 km)** and **shortest rides (0.24 km)**. "
      ]
    },
    {
      "cell_type": "code",
      "metadata": {
        "id": "KaOFsZ28oZd6"
      },
      "source": [
        "rides_distance = completed_rides[completed_rides.distance_km==completed_rides.distance_km.max()]\r\n",
        "rides_distance = rides_distance.append(completed_rides[completed_rides.distance_km==completed_rides.distance_km.min()])\r\n",
        "rides_distance"
      ],
      "execution_count": null,
      "outputs": []
    },
    {
      "cell_type": "markdown",
      "metadata": {
        "id": "YNWRM6wk3CsF"
      },
      "source": [
        "Analysing amount paid by km ridden we have: **expensive (46.96 BRL/km)** and **cheaper (0 BRL/km)**. Cheaper trip certainly refers to a free ride, while the expensive cost 46.96 BRL. This effect is basicaly driven by **fixed minimum fare in high demand periods**, since the total distance was only 0.24km."
      ]
    },
    {
      "cell_type": "code",
      "metadata": {
        "id": "AT5wli-wvC1K"
      },
      "source": [
        "rides_amount_km = completed_rides[completed_rides.amount_km==completed_rides.amount_km.max()]\r\n",
        "rides_amount_km = rides_amount_km.append(completed_rides[completed_rides.amount_km==completed_rides.amount_km.min()])\r\n",
        "rides_amount_km"
      ],
      "execution_count": null,
      "outputs": []
    },
    {
      "cell_type": "markdown",
      "metadata": {
        "id": "x6CAq0oAdpha"
      },
      "source": [
        "###**What is the average lead time before begining a trip?**\r\n",
        "\r\n",
        "It takes **approximately 5 minutes** to start trips, after they are requested."
      ]
    },
    {
      "cell_type": "code",
      "metadata": {
        "id": "YzSaj6Od68Bs"
      },
      "source": [
        "print(round(completed_rides.request_lead_time.mean(),1),'minutes')"
      ],
      "execution_count": null,
      "outputs": []
    },
    {
      "cell_type": "markdown",
      "metadata": {
        "id": "RBFP7pABzde2"
      },
      "source": [
        "##<font color='blue'>**Conclusion**</font>\r\n"
      ]
    },
    {
      "cell_type": "markdown",
      "metadata": {
        "id": "r5b2DnmqftbO"
      },
      "source": [
        "\r\n",
        "Exploratory Data Analysis is **not a trivial task**! It requires lots of work and patience, however it is surely a **powerful tool if correctly applied to your business context**. This post briefly demonstrated some tips and steps to make analysis easier and undoubtely highlighted the **crutial importance of a well defined business problem**, guiding all coding effort to a specific objective, also highlighting important insights. This business case also tried to reflect a **pratical application of python in daily business activities**, showing how fun, valuable and interesting it could become."
      ]
    }
  ]
}